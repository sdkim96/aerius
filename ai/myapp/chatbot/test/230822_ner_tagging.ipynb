{
 "cells": [
  {
   "cell_type": "code",
   "execution_count": 1,
   "metadata": {},
   "outputs": [
    {
     "name": "stderr",
     "output_type": "stream",
     "text": [
      "2023-08-23 03:07:40.191864: I tensorflow/tsl/cuda/cudart_stub.cc:28] Could not find cuda drivers on your machine, GPU will not be used.\n",
      "2023-08-23 03:07:40.279459: I tensorflow/tsl/cuda/cudart_stub.cc:28] Could not find cuda drivers on your machine, GPU will not be used.\n",
      "2023-08-23 03:07:40.281641: I tensorflow/core/platform/cpu_feature_guard.cc:182] This TensorFlow binary is optimized to use available CPU instructions in performance-critical operations.\n",
      "To enable the following instructions: AVX2 FMA, in other operations, rebuild TensorFlow with the appropriate compiler flags.\n",
      "2023-08-23 03:07:41.509047: W tensorflow/compiler/tf2tensorrt/utils/py_utils.cc:38] TF-TRT Warning: Could not find TensorRT\n"
     ]
    }
   ],
   "source": [
    "import pandas as pd\n",
    "from ai.myapp.chatbot.models.ner_module import *\n",
    "from ai.myapp.chatbot.utils.Preprocess import Preprocess"
   ]
  },
  {
   "cell_type": "code",
   "execution_count": 2,
   "metadata": {},
   "outputs": [
    {
     "name": "stdout",
     "output_type": "stream",
     "text": [
      "None\n"
     ]
    }
   ],
   "source": [
    "p = Preprocess()\n",
    "\n",
    "ner = NerModel(model='/home/azureuser/projects/aerius/ai/myapp/chatbot/models/models/230822_ner_model.h5',\n",
    "                preprocess=p, tokenizer_path='/home/azureuser/projects/aerius/ai/myapp/chatbot/models/tokenizers/230822_ner_tagging_tokenizer.json')"
   ]
  },
  {
   "cell_type": "code",
   "execution_count": 3,
   "metadata": {},
   "outputs": [
    {
     "name": "stdout",
     "output_type": "stream",
     "text": [
      "이번에 나온 신상옷에 대해 알려주세요\n",
      "[[967, 161, 4430, 145, 727, 43, 222, 76, 66, 116, 30]]\n",
      "[array([[ 967,  161, 4430,  145,  727,   43,  222,   76,   66,  116,   30,\n",
      "           0,    0,    0,    0,    0,    0,    0,    0,    0,    0,    0,\n",
      "           0,    0,    0,    0,    0,    0,    0,    0,    0,    0,    0,\n",
      "           0,    0,    0,    0,    0,    0,    0,    0,    0,    0,    0,\n",
      "           0,    0,    0,    0,    0,    0,    0,    0,    0,    0,    0,\n",
      "           0,    0,    0,    0,    0,    0,    0,    0,    0,    0,    0,\n",
      "           0,    0,    0,    0,    0,    0,    0,    0,    0,    0,    0,\n",
      "           0,    0,    0,    0,    0,    0,    0,    0,    0,    0,    0,\n",
      "           0,    0,    0,    0,    0,    0,    0]], dtype=int32)]\n",
      "1/1 [==============================] - 1s 701ms/step\n"
     ]
    },
    {
     "ename": "KeyError",
     "evalue": "11",
     "output_type": "error",
     "traceback": [
      "\u001b[0;31m---------------------------------------------------------------------------\u001b[0m",
      "\u001b[0;31mKeyError\u001b[0m                                  Traceback (most recent call last)",
      "Cell \u001b[0;32mIn[3], line 5\u001b[0m\n\u001b[1;32m      3\u001b[0m \u001b[39mfor\u001b[39;00m q \u001b[39min\u001b[39;00m queries:\n\u001b[1;32m      4\u001b[0m     \u001b[39mprint\u001b[39m(q)\n\u001b[0;32m----> 5\u001b[0m     predict\u001b[39m=\u001b[39m ner\u001b[39m.\u001b[39;49mpredict_class(q)\n\u001b[1;32m      6\u001b[0m     probabilities \u001b[39m=\u001b[39m ner\u001b[39m.\u001b[39mpredict_proba(q)\n\u001b[1;32m      8\u001b[0m     \u001b[39mprint\u001b[39m(predict)\n",
      "File \u001b[0;32m~/projects/aerius/ai/myapp/chatbot/models/ner_module.py:41\u001b[0m, in \u001b[0;36mNerModel.predict_class\u001b[0;34m(self, query)\u001b[0m\n\u001b[1;32m     38\u001b[0m predict \u001b[39m=\u001b[39m \u001b[39mself\u001b[39m\u001b[39m.\u001b[39mmodel\u001b[39m.\u001b[39mpredict(np\u001b[39m.\u001b[39marray([padded_seqs[\u001b[39m0\u001b[39m]]))\n\u001b[1;32m     39\u001b[0m predict_class \u001b[39m=\u001b[39m tf\u001b[39m.\u001b[39mmath\u001b[39m.\u001b[39margmax(predict, axis\u001b[39m=\u001b[39m\u001b[39m1\u001b[39m)\n\u001b[0;32m---> 41\u001b[0m tags\u001b[39m=\u001b[39m[\u001b[39mself\u001b[39m\u001b[39m.\u001b[39mlabels[i] \u001b[39mfor\u001b[39;00m i \u001b[39min\u001b[39;00m predict_class\u001b[39m.\u001b[39mnumpy()[\u001b[39m0\u001b[39m]]\n\u001b[1;32m     42\u001b[0m \u001b[39mreturn\u001b[39;00m tags\n",
      "File \u001b[0;32m~/projects/aerius/ai/myapp/chatbot/models/ner_module.py:41\u001b[0m, in \u001b[0;36m<listcomp>\u001b[0;34m(.0)\u001b[0m\n\u001b[1;32m     38\u001b[0m predict \u001b[39m=\u001b[39m \u001b[39mself\u001b[39m\u001b[39m.\u001b[39mmodel\u001b[39m.\u001b[39mpredict(np\u001b[39m.\u001b[39marray([padded_seqs[\u001b[39m0\u001b[39m]]))\n\u001b[1;32m     39\u001b[0m predict_class \u001b[39m=\u001b[39m tf\u001b[39m.\u001b[39mmath\u001b[39m.\u001b[39margmax(predict, axis\u001b[39m=\u001b[39m\u001b[39m1\u001b[39m)\n\u001b[0;32m---> 41\u001b[0m tags\u001b[39m=\u001b[39m[\u001b[39mself\u001b[39;49m\u001b[39m.\u001b[39;49mlabels[i] \u001b[39mfor\u001b[39;00m i \u001b[39min\u001b[39;00m predict_class\u001b[39m.\u001b[39mnumpy()[\u001b[39m0\u001b[39m]]\n\u001b[1;32m     42\u001b[0m \u001b[39mreturn\u001b[39;00m tags\n",
      "\u001b[0;31mKeyError\u001b[0m: 11"
     ]
    }
   ],
   "source": [
    "queries = ['이번에 나온 신상옷에 대해 알려주세요', '뭐가 좋습니까?']\n",
    "\n",
    "for q in queries:\n",
    "    print(q)\n",
    "    predict= ner.predict_class(q)\n",
    "    probabilities = ner.predict_proba(q)\n",
    "\n",
    "    print(predict)\n",
    "    print(f\"Predicted probabilities for each class: {probabilities}\")\n",
    "\n",
    "print('--------------------------------------------------------')"
   ]
  }
 ],
 "metadata": {
  "kernelspec": {
   "display_name": "venv",
   "language": "python",
   "name": "python3"
  },
  "language_info": {
   "codemirror_mode": {
    "name": "ipython",
    "version": 3
   },
   "file_extension": ".py",
   "mimetype": "text/x-python",
   "name": "python",
   "nbconvert_exporter": "python",
   "pygments_lexer": "ipython3",
   "version": "3.8.10"
  },
  "orig_nbformat": 4
 },
 "nbformat": 4,
 "nbformat_minor": 2
}
