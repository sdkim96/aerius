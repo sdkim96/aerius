{
 "cells": [
  {
   "cell_type": "code",
   "execution_count": 2,
   "metadata": {},
   "outputs": [],
   "source": [
    "def tupling_lines(df):\n",
    "    w_l = df['word'].tolist()\n",
    "    id_l = df['id'].tolist()\n",
    "    l_l = df['label'].tolist()\n",
    "    t_l = df['tag'].tolist()\n",
    "\n",
    "    result = tuple(zip(w_l,id_l,l_l,t_l))\n",
    "\n",
    "    return result"
   ]
  },
  {
   "cell_type": "code",
   "execution_count": 7,
   "metadata": {},
   "outputs": [],
   "source": [
    "w_l = [1,2,3,4]\n",
    "id_l = ['a','b','c','d']\n",
    "l_l = [5,6,7,8]\n",
    "t_l = ['e','f','g','h']\n",
    "\n",
    "\n",
    "import pandas as pd\n",
    "\n",
    "df = pd.DataFrame(data = {\n",
    "    'word': w_l,\n",
    "    'id': id_l,\n",
    "    'label': l_l,\n",
    "    'tag': t_l\n",
    "})"
   ]
  },
  {
   "cell_type": "code",
   "execution_count": 8,
   "metadata": {},
   "outputs": [
    {
     "data": {
      "text/plain": [
       "((1, 'a', 5, 'e'), (2, 'b', 6, 'f'), (3, 'c', 7, 'g'), (4, 'd', 8, 'h'))"
      ]
     },
     "execution_count": 8,
     "metadata": {},
     "output_type": "execute_result"
    }
   ],
   "source": [
    "r=tupling_lines(df)\n",
    "\n",
    "r"
   ]
  }
 ],
 "metadata": {
  "kernelspec": {
   "display_name": "venv",
   "language": "python",
   "name": "python3"
  },
  "language_info": {
   "codemirror_mode": {
    "name": "ipython",
    "version": 3
   },
   "file_extension": ".py",
   "mimetype": "text/x-python",
   "name": "python",
   "nbconvert_exporter": "python",
   "pygments_lexer": "ipython3",
   "version": "3.8.10"
  },
  "orig_nbformat": 4
 },
 "nbformat": 4,
 "nbformat_minor": 2
}
