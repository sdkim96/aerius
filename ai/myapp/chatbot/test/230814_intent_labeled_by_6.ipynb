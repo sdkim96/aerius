{
 "cells": [
  {
   "cell_type": "code",
   "execution_count": 1,
   "metadata": {},
   "outputs": [
    {
     "name": "stderr",
     "output_type": "stream",
     "text": [
      "2023-08-17 07:48:03.590887: I tensorflow/tsl/cuda/cudart_stub.cc:28] Could not find cuda drivers on your machine, GPU will not be used.\n",
      "2023-08-17 07:48:03.650584: I tensorflow/tsl/cuda/cudart_stub.cc:28] Could not find cuda drivers on your machine, GPU will not be used.\n",
      "2023-08-17 07:48:03.652382: I tensorflow/core/platform/cpu_feature_guard.cc:182] This TensorFlow binary is optimized to use available CPU instructions in performance-critical operations.\n",
      "To enable the following instructions: AVX2 FMA, in other operations, rebuild TensorFlow with the appropriate compiler flags.\n",
      "2023-08-17 07:48:04.673387: W tensorflow/compiler/tf2tensorrt/utils/py_utils.cc:38] TF-TRT Warning: Could not find TensorRT\n"
     ]
    }
   ],
   "source": [
    "import pandas as pd\n",
    "from ai.myapp.chatbot.models.intent_module import IntentModel\n",
    "from ai.myapp.chatbot.utils.Preprocess import Preprocess"
   ]
  },
  {
   "cell_type": "code",
   "execution_count": null,
   "metadata": {},
   "outputs": [],
   "source": []
  },
  {
   "cell_type": "code",
   "execution_count": 4,
   "metadata": {},
   "outputs": [
    {
     "name": "stdout",
     "output_type": "stream",
     "text": [
      "None\n",
      "이번에 나온 신상옷에 대해 알려주세요\n",
      "1/1 [==============================] - 0s 117ms/step\n",
      "1/1 [==============================] - 0s 29ms/step\n",
      "4\n",
      "Predicted probabilities for each class: [[0.01419073 0.07565115 0.00303169 0.07344452 0.79279804 0.0408839 ]]\n",
      "에이셔츠 지금 매장에 얼마나있어요?\n",
      "1/1 [==============================] - 0s 24ms/step\n",
      "1/1 [==============================] - 0s 24ms/step\n",
      "3\n",
      "Predicted probabilities for each class: [[1.9039829e-04 5.1826403e-02 1.4101554e-01 8.0691713e-01 2.4780511e-05\n",
      "  2.5686002e-05]]\n",
      "제 장바구니에 있는 물품 주문할게요\n",
      "1/1 [==============================] - 0s 23ms/step\n",
      "1/1 [==============================] - 0s 24ms/step\n",
      "1\n",
      "Predicted probabilities for each class: [[3.9496654e-01 4.6742883e-01 1.2154591e-01 1.5721235e-02 4.1916112e-05\n",
      "  2.9555371e-04]]\n",
      "배송지가 서울인데 얼마나 걸려요?\n",
      "1/1 [==============================] - 0s 25ms/step\n",
      "1/1 [==============================] - 0s 23ms/step\n",
      "1\n",
      "Predicted probabilities for each class: [[2.5028665e-08 9.9999845e-01 1.1643913e-09 1.5821100e-06 4.9290145e-11\n",
      "  1.0640743e-08]]\n"
     ]
    }
   ],
   "source": [
    "p = Preprocess()\n",
    "intent = IntentModel(model='/home/azureuser/projects/aerius/ai/myapp/chatbot/models/230817_intent_labeled_by_6_3.h5',\n",
    "                preprocess=p, tokenizer_path='/home/azureuser/projects/aerius/ai/myapp/chatbot/models/tokenizers/230817_intent_labeled_by_6_tokenizer.json')\n",
    "\n",
    "\n",
    "# self.labels = {\n",
    "#                 0:\"주문\", 1:\"배송\", 2:\"매장\", 3:\"AS\", 4:\"제품_정보\", 5:\"제품_재고\"\n",
    "#             }\n",
    "\n",
    "queries = ['AS를 받고싶어요', '사이즈 작은데교환이 안 되나여?', '제품제품제품제품제품제품제품','asdfasdfoiahfoahfahafwehofh']\n",
    "\n",
    "query1 = '이 제품이 무엇인가요?'\n",
    "query2 = '교환환불은 어디서 받죠?'\n",
    "query3 = '매장 위치가 어디에요?'\n",
    "query4 = '제 제품에 대해 AS를 받고싶어요'\n",
    "\n",
    "queries = ['이번에 나온 신상옷에 대해 알려주세요', '에이셔츠 지금 매장에 얼마나있어요?', '제 장바구니에 있는 물품 주문할게요', '배송지가 서울인데 얼마나 걸려요?']\n",
    "\n",
    "\n",
    "# predict1= intent.predict_class(query1)\n",
    "# probabilities1 = intent.predict_proba(query1)\n",
    "# print(predict1)\n",
    "# print(f\"Predicted probabilities for each class: {probabilities1}\")\n",
    "\n",
    "# predict2= intent.predict_class(query2)\n",
    "# probabilities2 = intent.predict_proba(query2)\n",
    "# print(predict2)\n",
    "# print(f\"Predicted probabilities for each class: {probabilities2}\")\n",
    "\n",
    "# predict3= intent.predict_class(query3)\n",
    "# probabilities3 = intent.predict_proba(query3)\n",
    "# print(predict3)\n",
    "# print(f\"Predicted probabilities for each class: {probabilities3}\")\n",
    "\n",
    "# predict4= intent.predict_class(query4)\n",
    "# probabilities4 = intent.predict_proba(query4)\n",
    "# print(predict4)\n",
    "# print(f\"Predicted probabilities for each class: {probabilities4}\")\n",
    "\n",
    "for q in queries:\n",
    "    print(q)\n",
    "    predict= intent.predict_class(q)\n",
    "    probabilities = intent.predict_proba(q)\n",
    "    print(predict)\n",
    "    print(f\"Predicted probabilities for each class: {probabilities}\")"
   ]
  },
  {
   "cell_type": "code",
   "execution_count": 3,
   "metadata": {},
   "outputs": [],
   "source": [
    "queries = ['werwearw', '사czv', '제품제품제품제품제품제품제품','asdfasdfoiahfoahfahafwehofh']\n"
   ]
  }
 ],
 "metadata": {
  "kernelspec": {
   "display_name": "venv",
   "language": "python",
   "name": "python3"
  },
  "language_info": {
   "codemirror_mode": {
    "name": "ipython",
    "version": 3
   },
   "file_extension": ".py",
   "mimetype": "text/x-python",
   "name": "python",
   "nbconvert_exporter": "python",
   "pygments_lexer": "ipython3",
   "version": "3.8.10"
  },
  "orig_nbformat": 4
 },
 "nbformat": 4,
 "nbformat_minor": 2
}
