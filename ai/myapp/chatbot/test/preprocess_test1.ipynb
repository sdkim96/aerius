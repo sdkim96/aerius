{
 "cells": [
  {
   "cell_type": "code",
   "execution_count": 2,
   "metadata": {},
   "outputs": [],
   "source": [
    "from ai.myapp.chatbot.utils.Preprocess import Preprocess"
   ]
  },
  {
   "cell_type": "code",
   "execution_count": 6,
   "metadata": {},
   "outputs": [
    {
     "name": "stdout",
     "output_type": "stream",
     "text": [
      "[('비셔츠', 'NNG'), ('주문', 'NNG'), ('ㅎㅎㅎ', 'NA')]\n",
      "[('비셔츠', 'NNG'), ('를', 'JKO'), ('주문', 'NNG'), ('하', 'XSV'), ('고', 'EC'), ('싶', 'VX'), ('어요', 'EF'), ('!', 'SF')]\n",
      "['비셔츠', '주문', 'ㅎㅎㅎ'] ['비셔츠', '를', '주문', '하', '고', '싶', '어요', '!']\n"
     ]
    }
   ],
   "source": [
    "aa = Preprocess(userdic='/home/azureuser/projects/aerius/ai/myapp/chatbot/dict/userdic.txt')\n",
    "preprocessed1=aa.delete_intent_trash_tags('비셔츠 주문할게요 ㅎㅎㅎ')\n",
    "preprocessed2=aa.delete_sense_trash_tags('비셔츠를 주문하고 싶어요!')\n",
    "print(preprocessed1)\n",
    "print(preprocessed2)\n",
    "\n",
    "p1, p2 = aa.divide_words_tags(preprocessed1)\n",
    "p3, p4 = aa.divide_words_tags(preprocessed2)\n",
    "\n",
    "print(p1, p3)"
   ]
  },
  {
   "cell_type": "code",
   "execution_count": 5,
   "metadata": {},
   "outputs": [],
   "source": [
    "aa2 = Preprocess()"
   ]
  }
 ],
 "metadata": {
  "kernelspec": {
   "display_name": "venv",
   "language": "python",
   "name": "python3"
  },
  "language_info": {
   "codemirror_mode": {
    "name": "ipython",
    "version": 3
   },
   "file_extension": ".py",
   "mimetype": "text/x-python",
   "name": "python",
   "nbconvert_exporter": "python",
   "pygments_lexer": "ipython3",
   "version": "3.8.10"
  },
  "orig_nbformat": 4
 },
 "nbformat": 4,
 "nbformat_minor": 2
}
