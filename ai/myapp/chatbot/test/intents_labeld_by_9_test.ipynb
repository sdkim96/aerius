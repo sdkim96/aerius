{
 "cells": [
  {
   "cell_type": "code",
   "execution_count": 1,
   "metadata": {},
   "outputs": [
    {
     "name": "stderr",
     "output_type": "stream",
     "text": [
      "2023-08-11 08:51:07.341507: I tensorflow/tsl/cuda/cudart_stub.cc:28] Could not find cuda drivers on your machine, GPU will not be used.\n",
      "2023-08-11 08:51:07.407306: I tensorflow/tsl/cuda/cudart_stub.cc:28] Could not find cuda drivers on your machine, GPU will not be used.\n",
      "2023-08-11 08:51:07.409429: I tensorflow/core/platform/cpu_feature_guard.cc:182] This TensorFlow binary is optimized to use available CPU instructions in performance-critical operations.\n",
      "To enable the following instructions: AVX2 AVX512F FMA, in other operations, rebuild TensorFlow with the appropriate compiler flags.\n",
      "2023-08-11 08:51:08.290293: W tensorflow/compiler/tf2tensorrt/utils/py_utils.cc:38] TF-TRT Warning: Could not find TensorRT\n"
     ]
    }
   ],
   "source": [
    "import pandas as pd\n",
    "from ai.myapp.chatbot.models.intent_module import IntentModel\n",
    "from ai.myapp.chatbot.utils.Preprocess import Preprocess"
   ]
  },
  {
   "cell_type": "code",
   "execution_count": null,
   "metadata": {},
   "outputs": [],
   "source": []
  },
  {
   "cell_type": "code",
   "execution_count": 4,
   "metadata": {},
   "outputs": [
    {
     "name": "stdout",
     "output_type": "stream",
     "text": [
      "None\n",
      "1/1 [==============================] - 0s 88ms/step\n",
      "1/1 [==============================] - 0s 19ms/step\n",
      "3\n",
      "Predicted probabilities for each class: [[0.14813618 0.13442655 0.07564644 0.18338737 0.12391933 0.08987302\n",
      "  0.10258673 0.08542281 0.05660143]]\n",
      "1/1 [==============================] - 0s 19ms/step\n",
      "1/1 [==============================] - 0s 18ms/step\n",
      "3\n",
      "Predicted probabilities for each class: [[0.14813618 0.13442655 0.07564644 0.18338737 0.12391933 0.08987302\n",
      "  0.10258673 0.08542281 0.05660143]]\n",
      "1/1 [==============================] - 0s 18ms/step\n",
      "1/1 [==============================] - 0s 24ms/step\n",
      "3\n",
      "Predicted probabilities for each class: [[0.14813618 0.13442655 0.07564644 0.18338737 0.12391933 0.08987302\n",
      "  0.10258673 0.08542281 0.05660143]]\n",
      "1/1 [==============================] - 0s 19ms/step\n",
      "1/1 [==============================] - 0s 19ms/step\n",
      "3\n",
      "Predicted probabilities for each class: [[0.14813618 0.13442655 0.07564644 0.18338737 0.12391933 0.08987302\n",
      "  0.10258673 0.08542281 0.05660143]]\n"
     ]
    }
   ],
   "source": [
    "p = Preprocess()\n",
    "intent = IntentModel(model='/home/azureuser/projects/aerius/ai/myapp/chatbot/models/intents_labeled_by_9_first_try_lower_dense.h5',\n",
    "                preprocess=p)\n",
    "\n",
    "\n",
    "# self.labels = {\n",
    "#                 '제품_재고': 0, '제품_정보': 1, '제품_추천': 2, '제품_일반': 3,\n",
    "#                 '제품_기타': 4, '결제': 5, '매장': 6, '기타': 7, 'AS': 8\n",
    "#             }\n",
    "\n",
    "queries = ['이 제품에 대해 설명해봐', '사이즈 작은데교환이 안 되나여?', '제품제품제품제품제품제품제품','asdfasdfoiahfoahfahafwehofh']\n",
    "for q in queries:\n",
    "    predict= intent.predict_class(q)\n",
    "    probabilities = intent.predict_proba(q)\n",
    "    print(predict)\n",
    "    print(f\"Predicted probabilities for each class: {probabilities}\")\n",
    "# predict_label = intent.labels[predict]\n",
    "\n",
    "# print(predict_label)"
   ]
  },
  {
   "cell_type": "code",
   "execution_count": 3,
   "metadata": {},
   "outputs": [
    {
     "name": "stdout",
     "output_type": "stream",
     "text": [
      "1/1 [==============================] - 0s 20ms/step\n"
     ]
    },
    {
     "name": "stdout",
     "output_type": "stream",
     "text": [
      "1/1 [==============================] - 0s 21ms/step\n",
      "3\n",
      "Predicted probabilities for each class: [[0.14140917 0.13272956 0.08742931 0.18538545 0.11685754 0.09049526\n",
      "  0.10638719 0.08416102 0.05514545]]\n",
      "1/1 [==============================] - 0s 19ms/step\n",
      "1/1 [==============================] - 0s 21ms/step\n",
      "3\n",
      "Predicted probabilities for each class: [[0.14140917 0.13272956 0.08742931 0.18538545 0.11685754 0.09049526\n",
      "  0.10638719 0.08416102 0.05514545]]\n",
      "1/1 [==============================] - 0s 19ms/step\n",
      "1/1 [==============================] - 0s 20ms/step\n",
      "3\n",
      "Predicted probabilities for each class: [[0.14140917 0.13272956 0.08742931 0.18538545 0.11685754 0.09049526\n",
      "  0.10638719 0.08416102 0.05514545]]\n",
      "1/1 [==============================] - 0s 19ms/step\n",
      "1/1 [==============================] - 0s 19ms/step\n",
      "3\n",
      "Predicted probabilities for each class: [[0.14140917 0.13272956 0.08742931 0.18538545 0.11685754 0.09049526\n",
      "  0.10638719 0.08416102 0.05514545]]\n"
     ]
    }
   ],
   "source": [
    "queries = ['werwearw', '사czv', '제품제품제품제품제품제품제품','asdfasdfoiahfoahfahafwehofh']\n",
    "for q in queries:\n",
    "    predict= intent.predict_class(q)\n",
    "    probabilities = intent.predict_proba(q)\n",
    "    print(predict)\n",
    "    print(f\"Predicted probabilities for each class: {probabilities}\")"
   ]
  }
 ],
 "metadata": {
  "kernelspec": {
   "display_name": "venv",
   "language": "python",
   "name": "python3"
  },
  "language_info": {
   "codemirror_mode": {
    "name": "ipython",
    "version": 3
   },
   "file_extension": ".py",
   "mimetype": "text/x-python",
   "name": "python",
   "nbconvert_exporter": "python",
   "pygments_lexer": "ipython3",
   "version": "3.8.10"
  },
  "orig_nbformat": 4
 },
 "nbformat": 4,
 "nbformat_minor": 2
}
