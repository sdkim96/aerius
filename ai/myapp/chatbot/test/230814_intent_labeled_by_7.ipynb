{
 "cells": [
  {
   "cell_type": "code",
   "execution_count": 1,
   "metadata": {},
   "outputs": [
    {
     "name": "stderr",
     "output_type": "stream",
     "text": [
      "2023-08-14 09:08:15.746891: I tensorflow/tsl/cuda/cudart_stub.cc:28] Could not find cuda drivers on your machine, GPU will not be used.\n",
      "2023-08-14 09:08:15.804219: I tensorflow/tsl/cuda/cudart_stub.cc:28] Could not find cuda drivers on your machine, GPU will not be used.\n",
      "2023-08-14 09:08:15.805749: I tensorflow/core/platform/cpu_feature_guard.cc:182] This TensorFlow binary is optimized to use available CPU instructions in performance-critical operations.\n",
      "To enable the following instructions: AVX2 FMA, in other operations, rebuild TensorFlow with the appropriate compiler flags.\n",
      "2023-08-14 09:08:16.823706: W tensorflow/compiler/tf2tensorrt/utils/py_utils.cc:38] TF-TRT Warning: Could not find TensorRT\n"
     ]
    }
   ],
   "source": [
    "import pandas as pd\n",
    "from ai.myapp.chatbot.models.intent_module import IntentModel\n",
    "from ai.myapp.chatbot.utils.Preprocess import Preprocess"
   ]
  },
  {
   "cell_type": "code",
   "execution_count": null,
   "metadata": {},
   "outputs": [],
   "source": []
  },
  {
   "cell_type": "code",
   "execution_count": 4,
   "metadata": {},
   "outputs": [
    {
     "name": "stdout",
     "output_type": "stream",
     "text": [
      "None\n",
      "None\n",
      "1/1 [==============================] - 0s 89ms/step\n",
      "1/1 [==============================] - 0s 25ms/step\n",
      "5\n",
      "Predicted probabilities for each class: [[0.12884142 0.12654728 0.12924281 0.08121095 0.1752212  0.1964241\n",
      "  0.16251227]]\n",
      "1/1 [==============================] - 0s 23ms/step\n",
      "1/1 [==============================] - 0s 58ms/step\n",
      "5\n",
      "Predicted probabilities for each class: [[0.12884142 0.12654728 0.12924281 0.08121095 0.1752212  0.1964241\n",
      "  0.16251227]]\n",
      "1/1 [==============================] - 0s 32ms/step\n",
      "1/1 [==============================] - 0s 19ms/step\n",
      "5\n",
      "Predicted probabilities for each class: [[0.12884142 0.12654728 0.12924281 0.08121095 0.1752212  0.1964241\n",
      "  0.16251227]]\n",
      "1/1 [==============================] - 0s 20ms/step\n",
      "1/1 [==============================] - 0s 19ms/step\n",
      "5\n",
      "Predicted probabilities for each class: [[0.12884142 0.12654728 0.12924281 0.08121095 0.1752212  0.1964241\n",
      "  0.16251227]]\n",
      "1/1 [==============================] - 0s 100ms/step\n",
      "1/1 [==============================] - 0s 20ms/step\n",
      "5\n",
      "Predicted probabilities for each class: [[0.12884142 0.12654728 0.12924281 0.08121095 0.1752212  0.1964241\n",
      "  0.16251227]]\n",
      "1/1 [==============================] - 0s 18ms/step\n",
      "1/1 [==============================] - 0s 20ms/step\n",
      "5\n",
      "Predicted probabilities for each class: [[0.12884142 0.12654728 0.12924281 0.08121095 0.1752212  0.1964241\n",
      "  0.16251227]]\n",
      "1/1 [==============================] - 0s 19ms/step\n",
      "1/1 [==============================] - 0s 57ms/step\n",
      "5\n",
      "Predicted probabilities for each class: [[0.12884142 0.12654728 0.12924281 0.08121095 0.1752212  0.1964241\n",
      "  0.16251227]]\n",
      "1/1 [==============================] - 0s 27ms/step\n",
      "1/1 [==============================] - 0s 19ms/step\n",
      "5\n",
      "Predicted probabilities for each class: [[0.12884142 0.12654728 0.12924281 0.08121095 0.1752212  0.1964241\n",
      "  0.16251227]]\n"
     ]
    }
   ],
   "source": [
    "p = Preprocess()\n",
    "intent = IntentModel(model='/home/azureuser/projects/aerius/ai/myapp/chatbot/models/230814_intent_labeled_by_7_lower_dense.h5',\n",
    "                preprocess=p)\n",
    "\n",
    "p1 = Preprocess()\n",
    "intent1 = IntentModel(model='/home/azureuser/projects/aerius/ai/myapp/chatbot/models/230814_intent_labeled_by_7_lower_dense.h5',\n",
    "                preprocess=p1)\n",
    "\n",
    "\n",
    "# self.labels = {\n",
    "#                 '제품_재고': 0, '제품_정보': 1, '제품_추천': 2, '제품_일반': 3,\n",
    "#                 '제품_기타': 4, '결제': 5, '매장': 6, '기타': 7, 'AS': 8\n",
    "#             }\n",
    "\n",
    "queries = ['이 제품에 대해 설명해봐', '사이즈 작은데교환이 안 되나여?', '제품제품제품제품제품제품제품','asdfasdfoiahfoahfahafwehofh']\n",
    "for q in queries:\n",
    "    predict= intent.predict_class(q)\n",
    "    probabilities = intent.predict_proba(q)\n",
    "    print(predict)\n",
    "    print(f\"Predicted probabilities for each class: {probabilities}\")\n",
    "\n",
    "for qw in queries:\n",
    "    predict1= intent1.predict_class(q)\n",
    "    probabilities1 = intent1.predict_proba(q)\n",
    "    print(predict1)\n",
    "    print(f\"Predicted probabilities for each class: {probabilities1}\")\n",
    "# predict_label = intent.labels[predict]\n",
    "\n",
    "# print(predict_label)"
   ]
  },
  {
   "cell_type": "code",
   "execution_count": 3,
   "metadata": {},
   "outputs": [
    {
     "name": "stdout",
     "output_type": "stream",
     "text": [
      "1/1 [==============================] - 0s 21ms/step\n",
      "1/1 [==============================] - 0s 19ms/step\n",
      "5\n",
      "Predicted probabilities for each class: [[0.12884142 0.12654728 0.12924281 0.08121095 0.1752212  0.1964241\n",
      "  0.16251227]]\n",
      "1/1 [==============================] - 0s 23ms/step\n",
      "1/1 [==============================] - 0s 21ms/step\n",
      "5\n",
      "Predicted probabilities for each class: [[0.12884142 0.12654728 0.12924281 0.08121095 0.1752212  0.1964241\n",
      "  0.16251227]]\n",
      "1/1 [==============================] - 0s 21ms/step\n",
      "1/1 [==============================] - 0s 21ms/step\n",
      "5\n",
      "Predicted probabilities for each class: [[0.12884142 0.12654728 0.12924281 0.08121095 0.1752212  0.1964241\n",
      "  0.16251227]]\n",
      "1/1 [==============================] - 0s 22ms/step\n",
      "1/1 [==============================] - 0s 24ms/step\n",
      "5\n",
      "Predicted probabilities for each class: [[0.12884142 0.12654728 0.12924281 0.08121095 0.1752212  0.1964241\n",
      "  0.16251227]]\n"
     ]
    }
   ],
   "source": [
    "queries = ['werwearw', '사czv', '제품제품제품제품제품제품제품','asdfasdfoiahfoahfahafwehofh']\n",
    "for q in queries:\n",
    "    predict= intent.predict_class(q)\n",
    "    probabilities = intent.predict_proba(q)\n",
    "    print(predict)\n",
    "    print(f\"Predicted probabilities for each class: {probabilities}\")"
   ]
  }
 ],
 "metadata": {
  "kernelspec": {
   "display_name": "venv",
   "language": "python",
   "name": "python3"
  },
  "language_info": {
   "codemirror_mode": {
    "name": "ipython",
    "version": 3
   },
   "file_extension": ".py",
   "mimetype": "text/x-python",
   "name": "python",
   "nbconvert_exporter": "python",
   "pygments_lexer": "ipython3",
   "version": "3.8.10"
  },
  "orig_nbformat": 4
 },
 "nbformat": 4,
 "nbformat_minor": 2
}
