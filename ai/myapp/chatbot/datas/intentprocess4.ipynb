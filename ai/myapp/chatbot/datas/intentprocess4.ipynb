{
 "cells": [
  {
   "cell_type": "code",
   "execution_count": 1,
   "metadata": {},
   "outputs": [],
   "source": [
    "import pandas as pd"
   ]
  },
  {
   "cell_type": "code",
   "execution_count": 2,
   "metadata": {},
   "outputs": [],
   "source": [
    "df1 = pd.read_csv('./clothes_train.csv')\n",
    "df2 = pd.read_csv('./clothes_validation.csv')"
   ]
  },
  {
   "cell_type": "code",
   "execution_count": 3,
   "metadata": {},
   "outputs": [],
   "source": [
    "df = pd.concat([df1,df2], axis=0)"
   ]
  },
  {
   "cell_type": "code",
   "execution_count": 4,
   "metadata": {},
   "outputs": [],
   "source": [
    "new = df[['발화문','발화자','인텐트']].rename(columns={'발화문':'query', '인텐트':'intent'})"
   ]
  },
  {
   "cell_type": "code",
   "execution_count": 5,
   "metadata": {},
   "outputs": [],
   "source": [
    "new_df = new[new['발화자']=='c'].drop(columns='발화자')"
   ]
  },
  {
   "cell_type": "code",
   "execution_count": 6,
   "metadata": {},
   "outputs": [],
   "source": [
    "new_df.to_csv('./query_and_intent_only.csv', index=False, encoding='utf-8')"
   ]
  },
  {
   "cell_type": "code",
   "execution_count": 7,
   "metadata": {},
   "outputs": [],
   "source": [
    "intent_list = new_df['intent'].unique().tolist()"
   ]
  },
  {
   "cell_type": "code",
   "execution_count": 8,
   "metadata": {},
   "outputs": [],
   "source": [
    "n2 = new_df[new_df['query'].str.len() !=1]\n",
    "\n",
    "# n2는 쿼리에서 하나인것 없음 이제"
   ]
  },
  {
   "cell_type": "code",
   "execution_count": 9,
   "metadata": {},
   "outputs": [
    {
     "data": {
      "text/html": [
       "<div>\n",
       "<style scoped>\n",
       "    .dataframe tbody tr th:only-of-type {\n",
       "        vertical-align: middle;\n",
       "    }\n",
       "\n",
       "    .dataframe tbody tr th {\n",
       "        vertical-align: top;\n",
       "    }\n",
       "\n",
       "    .dataframe thead th {\n",
       "        text-align: right;\n",
       "    }\n",
       "</style>\n",
       "<table border=\"1\" class=\"dataframe\">\n",
       "  <thead>\n",
       "    <tr style=\"text-align: right;\">\n",
       "      <th></th>\n",
       "      <th>query</th>\n",
       "      <th>intent</th>\n",
       "    </tr>\n",
       "  </thead>\n",
       "  <tbody>\n",
       "    <tr>\n",
       "      <th>0</th>\n",
       "      <td>아침도 아니고 밤 12시 30분에 결제한 건데도 그런가요?</td>\n",
       "      <td>주문_취소_확인</td>\n",
       "    </tr>\n",
       "    <tr>\n",
       "      <th>2</th>\n",
       "      <td>실수로 취소하면 재주문해야 하는 거죠?</td>\n",
       "      <td>주문_취소_확인</td>\n",
       "    </tr>\n",
       "    <tr>\n",
       "      <th>4</th>\n",
       "      <td>택배비 따로 추가되나요?</td>\n",
       "      <td>배송_비용_질문</td>\n",
       "    </tr>\n",
       "    <tr>\n",
       "      <th>6</th>\n",
       "      <td>택배비 있나요?</td>\n",
       "      <td>배송_비용_질문</td>\n",
       "    </tr>\n",
       "    <tr>\n",
       "      <th>8</th>\n",
       "      <td>택배비 따로 들어요</td>\n",
       "      <td>배송_비용_질문</td>\n",
       "    </tr>\n",
       "    <tr>\n",
       "      <th>...</th>\n",
       "      <td>...</td>\n",
       "      <td>...</td>\n",
       "    </tr>\n",
       "    <tr>\n",
       "      <th>53872</th>\n",
       "      <td>15번 보는 거랑 주문번 호도 다르고 주문하고 싶은데 어찌해요?</td>\n",
       "      <td>주문_오류_질문</td>\n",
       "    </tr>\n",
       "    <tr>\n",
       "      <th>53874</th>\n",
       "      <td>선택 3번 에 카멜이 옵션에 없네요?</td>\n",
       "      <td>주문_오류_질문</td>\n",
       "    </tr>\n",
       "    <tr>\n",
       "      <th>53876</th>\n",
       "      <td>가디건은 회색시켰는데 흰색이 왓더라구요?</td>\n",
       "      <td>주문_오류_질문</td>\n",
       "    </tr>\n",
       "    <tr>\n",
       "      <th>53878</th>\n",
       "      <td>J765 청바지 두 개 주문하지 않았나요?</td>\n",
       "      <td>주문_오류_질문</td>\n",
       "    </tr>\n",
       "    <tr>\n",
       "      <th>53880</th>\n",
       "      <td>그런 사이 PT 블랙 구매했는데 화면에서는 블루랑 그린 색만 보이고 옵션 선택에는 ...</td>\n",
       "      <td>주문_오류_질문</td>\n",
       "    </tr>\n",
       "  </tbody>\n",
       "</table>\n",
       "<p>233682 rows × 2 columns</p>\n",
       "</div>"
      ],
      "text/plain": [
       "                                                   query    intent\n",
       "0                       아침도 아니고 밤 12시 30분에 결제한 건데도 그런가요?  주문_취소_확인\n",
       "2                                  실수로 취소하면 재주문해야 하는 거죠?  주문_취소_확인\n",
       "4                                          택배비 따로 추가되나요?  배송_비용_질문\n",
       "6                                               택배비 있나요?  배송_비용_질문\n",
       "8                                             택배비 따로 들어요  배송_비용_질문\n",
       "...                                                  ...       ...\n",
       "53872                15번 보는 거랑 주문번 호도 다르고 주문하고 싶은데 어찌해요?  주문_오류_질문\n",
       "53874                               선택 3번 에 카멜이 옵션에 없네요?  주문_오류_질문\n",
       "53876                             가디건은 회색시켰는데 흰색이 왓더라구요?  주문_오류_질문\n",
       "53878                            J765 청바지 두 개 주문하지 않았나요?  주문_오류_질문\n",
       "53880  그런 사이 PT 블랙 구매했는데 화면에서는 블루랑 그린 색만 보이고 옵션 선택에는 ...  주문_오류_질문\n",
       "\n",
       "[233682 rows x 2 columns]"
      ]
     },
     "execution_count": 9,
     "metadata": {},
     "output_type": "execute_result"
    }
   ],
   "source": [
    "n2[['query','intent']]"
   ]
  },
  {
   "cell_type": "code",
   "execution_count": 10,
   "metadata": {},
   "outputs": [
    {
     "name": "stdout",
     "output_type": "stream",
     "text": [
      "233682\n"
     ]
    }
   ],
   "source": [
    "print(len(n2[['query','intent']]))\n",
    "\n",
    "ns = n2['query'].tolist()\n",
    "\n",
    "n2_more_than_3 = n2[n2['query'].str.len() > 3 ]\n",
    "\n",
    "n3 = n2_more_than_3\n",
    "\n"
   ]
  },
  {
   "cell_type": "code",
   "execution_count": 11,
   "metadata": {},
   "outputs": [],
   "source": [
    "# 아래코드는 시간복잡도가 233682개의 요소들에 대해 O(n^2)이다. \n",
    "# 따라서 좋은 알고리즘이 아님.\n",
    "\n",
    "# eigen_n = []\n",
    "\n",
    "# for n in n3['query']:\n",
    "#     if n not in eigen_n:\n",
    "#         eigen_n.append(n)\n",
    "\n",
    "# print(len(eigen_n))\n",
    "\n",
    "# eigen_n"
   ]
  },
  {
   "cell_type": "code",
   "execution_count": 12,
   "metadata": {},
   "outputs": [
    {
     "name": "stdout",
     "output_type": "stream",
     "text": [
      "<class 'pandas.core.frame.DataFrame'>\n",
      "Index: 231181 entries, 0 to 53880\n",
      "Data columns (total 2 columns):\n",
      " #   Column  Non-Null Count   Dtype \n",
      "---  ------  --------------   ----- \n",
      " 0   query   231181 non-null  object\n",
      " 1   intent  231181 non-null  object\n",
      "dtypes: object(2)\n",
      "memory usage: 5.3+ MB\n"
     ]
    }
   ],
   "source": [
    "# 이 알고리즘의 시간복잡도는 O(n)임 시간복잡도의 \n",
    "# 차수를 줄이기 위해 set를 적극적으로 사용하기\n",
    "eigen_n = list(set(n3['query']))\n",
    "\n",
    "\n",
    "from collections import Counter\n",
    "\n",
    "# Counter 객체 생성\n",
    "count_n = Counter(n3['query'])\n",
    "\n",
    "# 중복된 값을 추출\n",
    "duplicated_n = [item for item, count in count_n.items() if count > 1]\n",
    "\n",
    "len(duplicated_n)\n",
    "\n",
    "\n",
    "\n",
    "\n",
    "n3.info()\n"
   ]
  },
  {
   "cell_type": "code",
   "execution_count": 13,
   "metadata": {},
   "outputs": [],
   "source": [
    "df_deduplicated = n3.drop_duplicates(subset='query', keep='first')"
   ]
  },
  {
   "cell_type": "code",
   "execution_count": 18,
   "metadata": {},
   "outputs": [],
   "source": [
    "df_deduplicated.to_csv('./query_and_intent_only_drop_dup.csv', index=False, encoding='utf-8')"
   ]
  },
  {
   "cell_type": "code",
   "execution_count": 52,
   "metadata": {},
   "outputs": [],
   "source": [
    "first_try= df_deduplicated[df_deduplicated['query'].str.len()>6]"
   ]
  },
  {
   "cell_type": "code",
   "execution_count": 53,
   "metadata": {},
   "outputs": [],
   "source": [
    "first_try.to_csv('./query_and_intent_only_drop_dup_first_try.csv', index=False, encoding='utf-8')"
   ]
  }
 ],
 "metadata": {
  "kernelspec": {
   "display_name": "venv",
   "language": "python",
   "name": "python3"
  },
  "language_info": {
   "codemirror_mode": {
    "name": "ipython",
    "version": 3
   },
   "file_extension": ".py",
   "mimetype": "text/x-python",
   "name": "python",
   "nbconvert_exporter": "python",
   "pygments_lexer": "ipython3",
   "version": "3.8.10"
  },
  "orig_nbformat": 4
 },
 "nbformat": 4,
 "nbformat_minor": 2
}
