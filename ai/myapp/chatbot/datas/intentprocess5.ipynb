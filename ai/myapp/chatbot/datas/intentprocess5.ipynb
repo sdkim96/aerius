{
 "cells": [
  {
   "cell_type": "code",
   "execution_count": 88,
   "metadata": {},
   "outputs": [],
   "source": [
    "import pandas as pd"
   ]
  },
  {
   "cell_type": "code",
   "execution_count": 89,
   "metadata": {},
   "outputs": [],
   "source": [
    "df=pd.read_csv('./query_and_intent_only_drop_dup_first_try.csv')\n",
    "df.to_csv('./query_and_intent_only_drop_dup_first_try.csv', encoding='utf-8-sig', index=False)"
   ]
  },
  {
   "cell_type": "code",
   "execution_count": 90,
   "metadata": {},
   "outputs": [
    {
     "name": "stdout",
     "output_type": "stream",
     "text": [
      "<class 'pandas.core.frame.DataFrame'>\n",
      "RangeIndex: 203069 entries, 0 to 203068\n",
      "Data columns (total 2 columns):\n",
      " #   Column  Non-Null Count   Dtype \n",
      "---  ------  --------------   ----- \n",
      " 0   query   203069 non-null  object\n",
      " 1   intent  203069 non-null  object\n",
      "dtypes: object(2)\n",
      "memory usage: 3.1+ MB\n"
     ]
    },
    {
     "data": {
      "text/html": [
       "<div>\n",
       "<style scoped>\n",
       "    .dataframe tbody tr th:only-of-type {\n",
       "        vertical-align: middle;\n",
       "    }\n",
       "\n",
       "    .dataframe tbody tr th {\n",
       "        vertical-align: top;\n",
       "    }\n",
       "\n",
       "    .dataframe thead th {\n",
       "        text-align: right;\n",
       "    }\n",
       "</style>\n",
       "<table border=\"1\" class=\"dataframe\">\n",
       "  <thead>\n",
       "    <tr style=\"text-align: right;\">\n",
       "      <th></th>\n",
       "      <th>query</th>\n",
       "      <th>intent</th>\n",
       "    </tr>\n",
       "  </thead>\n",
       "  <tbody>\n",
       "    <tr>\n",
       "      <th>0</th>\n",
       "      <td>아침도 아니고 밤 12시 30분에 결제한 건데도 그런가요?</td>\n",
       "      <td>주문_취소_확인</td>\n",
       "    </tr>\n",
       "    <tr>\n",
       "      <th>1</th>\n",
       "      <td>실수로 취소하면 재주문해야 하는 거죠?</td>\n",
       "      <td>주문_취소_확인</td>\n",
       "    </tr>\n",
       "    <tr>\n",
       "      <th>2</th>\n",
       "      <td>택배비 따로 추가되나요?</td>\n",
       "      <td>배송_비용_질문</td>\n",
       "    </tr>\n",
       "    <tr>\n",
       "      <th>3</th>\n",
       "      <td>택배비 있나요?</td>\n",
       "      <td>배송_비용_질문</td>\n",
       "    </tr>\n",
       "    <tr>\n",
       "      <th>4</th>\n",
       "      <td>택배비 따로 들어요</td>\n",
       "      <td>배송_비용_질문</td>\n",
       "    </tr>\n",
       "  </tbody>\n",
       "</table>\n",
       "</div>"
      ],
      "text/plain": [
       "                              query    intent\n",
       "0  아침도 아니고 밤 12시 30분에 결제한 건데도 그런가요?  주문_취소_확인\n",
       "1             실수로 취소하면 재주문해야 하는 거죠?  주문_취소_확인\n",
       "2                     택배비 따로 추가되나요?  배송_비용_질문\n",
       "3                          택배비 있나요?  배송_비용_질문\n",
       "4                        택배비 따로 들어요  배송_비용_질문"
      ]
     },
     "execution_count": 90,
     "metadata": {},
     "output_type": "execute_result"
    }
   ],
   "source": [
    "df.info()\n",
    "df.head(5)"
   ]
  },
  {
   "cell_type": "code",
   "execution_count": 91,
   "metadata": {},
   "outputs": [
    {
     "data": {
      "text/plain": [
       "array(['주문_취소_확인', '배송_비용_질문', '배송_비용_요청', '매장_정보_확인', '제품_품질_비교',\n",
       "       '제품_원산지_요청', '배송_일반_질문', '결제_영수증_요청', '제품_품질_요청', '제품_호환_확인',\n",
       "       '포장_일반_질문', '제품_구성_질문', '매장_이용_확인', '멤버십_사용_요청', '구매_제품_요청',\n",
       "       '제품_추천_확인', '제품_일반_비교', '구매_오류_요청', '예약_취소_질문', '웹사이트_오류_질문',\n",
       "       '제품_용도_확인', '웹사이트_사용_확인', '제품_품질_질문', '제품_입고_요청', '매장_정보_질문',\n",
       "       '제품_가격_요청', '웹사이트_가입_질문', '제품_호환_요청', '포장_비용_확인', '주문_변경_확인',\n",
       "       '포장_일반_확인', '제품_원산지_확인', '행사_유형_질문', '멤버십_오류_질문', '예약_취소_요청',\n",
       "       '결제_할인_요청', '교환|반품|환불_시간_질문', '제품_소재_확인', '구매_제품_질문', '제품_정보_비교',\n",
       "       '제품_용도_질문', 'AS_일반_요청', '행사_기간_요청', '제품_품질_확인', '결제_영수증_확인',\n",
       "       '매장_구조_질문', '구매_변경_요청', '예약_방법_확인', '행사_일반_질문', '제품_일반_요청',\n",
       "       '구매_예약_질문', '부가서비스_방법_요청', '웹사이트_오류_요청', '결제_추가_요청', '멤버십_가입_질문',\n",
       "       'AS_비용_질문', '제품_방법_요청', '구매_변경_질문', '교환|반품|환불_시간_확인', '매장_이용_질문',\n",
       "       '멤버십_적립_요청', '결제_재결제_요청', '제품_원산지_질문', '교환|반품|환불_일반_확인',\n",
       "       'AS_방법_요청', '제품_정보_요청', '결제_오류_확인', '배송_날짜_질문', '배송_오류_확인',\n",
       "       '부가서비스_날짜_질문', '제품_재고_요청', '구매_제품_확인', '배송_오류_질문', '행사_날짜_질문',\n",
       "       '구매_변경_확인', '결제_취소_질문', '제품_시용_질문', '제품_일반_질문', '제품_구성_확인',\n",
       "       '포장_일반_요청', '교환|반품|환불_비용_질문', '구매_추가_확인', '행사_유형_요청', 'AS_비용_확인',\n",
       "       '제품_방법_질문', '제품_입고_질문', '멤버십_사용_확인', '제품_구성_요청', '제품_정보_확인',\n",
       "       '제품_커스텀_질문', 'AS_날짜_질문', '포장_비용_질문', '제품_가격_확인', '결제_할인_질문',\n",
       "       '결제_수단_질문', '부가서비스_비용_질문', '주문_비품_확인', '제품_재고_질문', '구매_추가_요청',\n",
       "       '주문_오류_요청', '배송_지역_확인', '결제_시기_확인', '웹사이트_오류_확인', '배송_방법_요청',\n",
       "       '제품_시용_요청', '행사_기간_확인', '행사_정보_요청', '행사_일반_확인', 'AS_시간_질문',\n",
       "       '제품_날짜_질문', '교환|반품|환불_날짜_질문', 'AS_시간_요청', '결제_시기_질문', '제품_용도_비교',\n",
       "       '행사_정보_확인', '멤버십_적립_질문', '멤버십_가입_요청', '제품_재고_확인', '배송_택배사_요청',\n",
       "       '결제_방식_요청', '결제_오류_요청', '제품_추천_질문', '배송_지역_요청', '결제_추가_확인',\n",
       "       '주문_변경_질문', '제품_추천_요청', '주문_추가_질문', '매장_정보_요청', '결제_취소_요청',\n",
       "       '행사_유형_비교', '제품_방법_확인', 'AS_방법_질문', '제품_불량_질문', '예약_방법_요청',\n",
       "       '교환|반품|환불_방법_확인', '주문_추가_요청', '제품_정보_질문', '결제_수단_요청', '구매_취소_질문',\n",
       "       '결제_일반_확인', '멤버십_적립_확인', '결제_수단_확인', '멤버십_일반_확인', '교환|반품|환불_일반_비교',\n",
       "       '주문_취소_요청', '멤버십_가입_확인', '예약_변경_질문', '결제_오류_질문', '웹사이트_사용_질문',\n",
       "       '멤버십_사용_질문', '제품_가격_비교', '구매_추가_질문', '행사_일반_비교', '웹사이트_사용_요청',\n",
       "       '제품_날짜_확인', 'AS_비용_요청', '결제_시기_요청', '배송_방법_확인', '제품_구매_요청',\n",
       "       '결제_일반_비교', '예약_변경_요청', '제품_소재_요청', '결제_영수증_질문', '포장_방식_질문',\n",
       "       '결제_추가_질문', '부가서비스_방법_질문', '배송_택배사_질문', '주문_비품_질문', '멤버십_일반_질문',\n",
       "       '결제_일반_질문', '주문_제품_요청', '교환|반품|환불_일반_질문', '배송_날짜_비교', 'AS_시간_확인',\n",
       "       '제품_구성_비교', '제품_소재_비교', '제품_커스텀_확인', '제품_소재_질문', '행사_유형_확인',\n",
       "       '예약_비용_질문', 'AS_날짜_요청', '제품_원산지_비교', '구매_취소_확인', '교환|반품|환불_방법_요청',\n",
       "       '결제_방식_질문', '결제_취소_확인', '구매_예약_요청', '제품_추천_비교', '제품_불량_요청',\n",
       "       '구매_취소_요청', '교환|반품|환불_비용_확인', 'AS_일반_질문', '행사_기간_질문', '배송_지역_질문',\n",
       "       '주문_비품_요청', '교환|반품|환불_일반_요청', '주문_취소_질문', '배송_날짜_확인',\n",
       "       '교환|반품|환불_방법_질문', '교환|반품|환불_시간_요청', '배송_일반_확인', '결제_재결제_확인',\n",
       "       '예약_변경_확인', '주문_제품_질문', '제품_호환_질문', 'AS_비용_비교', '제품_용도_요청',\n",
       "       'AS_일반_확인', '매장_이용_요청', '포장_비용_비교', '제품_입고_비교', '포장_방식_확인',\n",
       "       '배송_방법_질문', '제품_시용_확인', '포장_방식_요청', '제품_방법_비교', '제품_일반_확인',\n",
       "       '구매_오류_질문', '멤버십_일반_요청', '주문_추가_확인', '예약_방법_질문', '결제_방식_확인',\n",
       "       '결제_할인_확인', '교환|반품|환불_시간_비교', '행사_정보_질문', '제품_가격_질문', '결제_재결제_질문',\n",
       "       '매장_부대시설_질문', '제품_입고_확인', '배송_택배사_확인', '포장_비용_요청', '제품_날짜_요청',\n",
       "       '배송_오류_요청', '배송_일반_요청', '행사_날짜_확인', '배송_비용_확인', 'AS_방법_확인',\n",
       "       '제품_구매_질문', '제품_커스텀_요청', '주문_변경_요청', '교환|반품|환불_비용_요청', '주문_제품_확인',\n",
       "       '배송_날짜_요청', '행사_일반_요청', '결제_일반_요청', '제품_불량_확인', '주문_오류_질문'],\n",
       "      dtype=object)"
      ]
     },
     "execution_count": 91,
     "metadata": {},
     "output_type": "execute_result"
    }
   ],
   "source": [
    "df['intent'].unique()"
   ]
  },
  {
   "cell_type": "code",
   "execution_count": 92,
   "metadata": {},
   "outputs": [
    {
     "data": {
      "text/html": [
       "<div>\n",
       "<style scoped>\n",
       "    .dataframe tbody tr th:only-of-type {\n",
       "        vertical-align: middle;\n",
       "    }\n",
       "\n",
       "    .dataframe tbody tr th {\n",
       "        vertical-align: top;\n",
       "    }\n",
       "\n",
       "    .dataframe thead th {\n",
       "        text-align: right;\n",
       "    }\n",
       "</style>\n",
       "<table border=\"1\" class=\"dataframe\">\n",
       "  <thead>\n",
       "    <tr style=\"text-align: right;\">\n",
       "      <th></th>\n",
       "      <th>query</th>\n",
       "      <th>intent</th>\n",
       "    </tr>\n",
       "  </thead>\n",
       "  <tbody>\n",
       "    <tr>\n",
       "      <th>9</th>\n",
       "      <td>무료배송이죠?</td>\n",
       "      <td>배송_비용_질문</td>\n",
       "    </tr>\n",
       "    <tr>\n",
       "      <th>1235</th>\n",
       "      <td>이거 괜찮네요</td>\n",
       "      <td>제품_품질_비교</td>\n",
       "    </tr>\n",
       "    <tr>\n",
       "      <th>1425</th>\n",
       "      <td>배송 안해요?</td>\n",
       "      <td>배송_일반_질문</td>\n",
       "    </tr>\n",
       "    <tr>\n",
       "      <th>1527</th>\n",
       "      <td>보낸 건가요?</td>\n",
       "      <td>배송_일반_질문</td>\n",
       "    </tr>\n",
       "    <tr>\n",
       "      <th>1598</th>\n",
       "      <td>언제 배송됨?</td>\n",
       "      <td>배송_일반_질문</td>\n",
       "    </tr>\n",
       "    <tr>\n",
       "      <th>...</th>\n",
       "      <td>...</td>\n",
       "      <td>...</td>\n",
       "    </tr>\n",
       "    <tr>\n",
       "      <th>198184</th>\n",
       "      <td>가능하신지요?</td>\n",
       "      <td>주문_제품_요청</td>\n",
       "    </tr>\n",
       "    <tr>\n",
       "      <th>198337</th>\n",
       "      <td>환불 안해요?</td>\n",
       "      <td>교환|반품|환불_일반_질문</td>\n",
       "    </tr>\n",
       "    <tr>\n",
       "      <th>198570</th>\n",
       "      <td>면 몇수에요?</td>\n",
       "      <td>제품_소재_질문</td>\n",
       "    </tr>\n",
       "    <tr>\n",
       "      <th>198656</th>\n",
       "      <td>비침 있을까?</td>\n",
       "      <td>제품_소재_질문</td>\n",
       "    </tr>\n",
       "    <tr>\n",
       "      <th>198720</th>\n",
       "      <td>양가죽인가요?</td>\n",
       "      <td>제품_소재_질문</td>\n",
       "    </tr>\n",
       "  </tbody>\n",
       "</table>\n",
       "<p>1492 rows × 2 columns</p>\n",
       "</div>"
      ],
      "text/plain": [
       "          query          intent\n",
       "9       무료배송이죠?        배송_비용_질문\n",
       "1235    이거 괜찮네요        제품_품질_비교\n",
       "1425    배송 안해요?        배송_일반_질문\n",
       "1527    보낸 건가요?        배송_일반_질문\n",
       "1598    언제 배송됨?        배송_일반_질문\n",
       "...         ...             ...\n",
       "198184  가능하신지요?        주문_제품_요청\n",
       "198337  환불 안해요?  교환|반품|환불_일반_질문\n",
       "198570  면 몇수에요?        제품_소재_질문\n",
       "198656  비침 있을까?        제품_소재_질문\n",
       "198720  양가죽인가요?        제품_소재_질문\n",
       "\n",
       "[1492 rows x 2 columns]"
      ]
     },
     "execution_count": 92,
     "metadata": {},
     "output_type": "execute_result"
    }
   ],
   "source": [
    "df[df['query'].str.len()<8]"
   ]
  },
  {
   "cell_type": "code",
   "execution_count": 93,
   "metadata": {},
   "outputs": [
    {
     "data": {
      "text/html": [
       "<div>\n",
       "<style scoped>\n",
       "    .dataframe tbody tr th:only-of-type {\n",
       "        vertical-align: middle;\n",
       "    }\n",
       "\n",
       "    .dataframe tbody tr th {\n",
       "        vertical-align: top;\n",
       "    }\n",
       "\n",
       "    .dataframe thead th {\n",
       "        text-align: right;\n",
       "    }\n",
       "</style>\n",
       "<table border=\"1\" class=\"dataframe\">\n",
       "  <thead>\n",
       "    <tr style=\"text-align: right;\">\n",
       "      <th></th>\n",
       "      <th>query</th>\n",
       "      <th>intent</th>\n",
       "    </tr>\n",
       "  </thead>\n",
       "  <tbody>\n",
       "    <tr>\n",
       "      <th>2360</th>\n",
       "      <td>다른건 배송해주시고 연락주시겠어요?</td>\n",
       "      <td>포장_일반_질문</td>\n",
       "    </tr>\n",
       "    <tr>\n",
       "      <th>2395</th>\n",
       "      <td>선물할 건데 답변은 포장백에 담아 포장백에 넣어 배송된다고 답변하시고 배송은 이렇게...</td>\n",
       "      <td>포장_일반_질문</td>\n",
       "    </tr>\n",
       "    <tr>\n",
       "      <th>2412</th>\n",
       "      <td>주문했는데 선물포장 가능할까요?</td>\n",
       "      <td>포장_일반_질문</td>\n",
       "    </tr>\n",
       "    <tr>\n",
       "      <th>2419</th>\n",
       "      <td>세 개 주문하면서 셋다 다른 분께 선물하려고 했는데 쇼핑백이 하나도 없어 여?써 놓...</td>\n",
       "      <td>포장_일반_질문</td>\n",
       "    </tr>\n",
       "    <tr>\n",
       "      <th>2420</th>\n",
       "      <td>주문했는데 포장은 기본으로 해주시는 거져?</td>\n",
       "      <td>포장_일반_질문</td>\n",
       "    </tr>\n",
       "    <tr>\n",
       "      <th>...</th>\n",
       "      <td>...</td>\n",
       "      <td>...</td>\n",
       "    </tr>\n",
       "    <tr>\n",
       "      <th>202696</th>\n",
       "      <td>같이 보내주신 상품 두 개를 모두 반품하려고 하는데 반품 배송비 결재를 묶어서 한번...</td>\n",
       "      <td>교환|반품|환불_비용_요청</td>\n",
       "    </tr>\n",
       "    <tr>\n",
       "      <th>202698</th>\n",
       "      <td>더 저렴한 걸로 교환해서 차액이 6700원인데 거기서 배송비 5천원 차감하고 170...</td>\n",
       "      <td>교환|반품|환불_비용_요청</td>\n",
       "    </tr>\n",
       "    <tr>\n",
       "      <th>202700</th>\n",
       "      <td>구매 결정을 해버려서 환불 신청 버튼이 활성화되지 않아서요 추가 금액 1천원을 배송...</td>\n",
       "      <td>교환|반품|환불_비용_요청</td>\n",
       "    </tr>\n",
       "    <tr>\n",
       "      <th>202701</th>\n",
       "      <td>무배송으로 알고 있는데 착불로요금 부담했습니다 계좌 알려드림 될까요?</td>\n",
       "      <td>교환|반품|환불_비용_요청</td>\n",
       "    </tr>\n",
       "    <tr>\n",
       "      <th>202702</th>\n",
       "      <td>배송비를 지금 꼭 미리 보내드려야 하는지, 반품금액을 받고 나서 보내면 안 되나요?</td>\n",
       "      <td>교환|반품|환불_비용_요청</td>\n",
       "    </tr>\n",
       "  </tbody>\n",
       "</table>\n",
       "<p>5686 rows × 2 columns</p>\n",
       "</div>"
      ],
      "text/plain": [
       "                                                    query          intent\n",
       "2360                                  다른건 배송해주시고 연락주시겠어요?        포장_일반_질문\n",
       "2395    선물할 건데 답변은 포장백에 담아 포장백에 넣어 배송된다고 답변하시고 배송은 이렇게...        포장_일반_질문\n",
       "2412                                    주문했는데 선물포장 가능할까요?        포장_일반_질문\n",
       "2419    세 개 주문하면서 셋다 다른 분께 선물하려고 했는데 쇼핑백이 하나도 없어 여?써 놓...        포장_일반_질문\n",
       "2420                              주문했는데 포장은 기본으로 해주시는 거져?        포장_일반_질문\n",
       "...                                                   ...             ...\n",
       "202696  같이 보내주신 상품 두 개를 모두 반품하려고 하는데 반품 배송비 결재를 묶어서 한번...  교환|반품|환불_비용_요청\n",
       "202698  더 저렴한 걸로 교환해서 차액이 6700원인데 거기서 배송비 5천원 차감하고 170...  교환|반품|환불_비용_요청\n",
       "202700  구매 결정을 해버려서 환불 신청 버튼이 활성화되지 않아서요 추가 금액 1천원을 배송...  교환|반품|환불_비용_요청\n",
       "202701             무배송으로 알고 있는데 착불로요금 부담했습니다 계좌 알려드림 될까요?  교환|반품|환불_비용_요청\n",
       "202702     배송비를 지금 꼭 미리 보내드려야 하는지, 반품금액을 받고 나서 보내면 안 되나요?  교환|반품|환불_비용_요청\n",
       "\n",
       "[5686 rows x 2 columns]"
      ]
     },
     "execution_count": 93,
     "metadata": {},
     "output_type": "execute_result"
    }
   ],
   "source": [
    "# 주어진 intent_list\n",
    "intent_list = ['주문', '배송', '제품', '매장', 'AS']\n",
    "\n",
    "# 주어진 조건에 따라 데이터를 필터링\n",
    "filtered_data = df[df.apply(lambda row: any(intent in row['query'] for intent in intent_list) and \n",
    "                                all(intent not in row['intent'] for intent in intent_list), axis=1)]\n",
    "\n",
    "filtered_data\n"
   ]
  },
  {
   "cell_type": "code",
   "execution_count": 94,
   "metadata": {},
   "outputs": [],
   "source": [
    "data_cleaned = df.drop(filtered_data.index)"
   ]
  },
  {
   "cell_type": "code",
   "execution_count": 95,
   "metadata": {},
   "outputs": [
    {
     "data": {
      "text/plain": [
       "array(['주문', '배송', '매장', '제품', '결제_영수증_요청', '포장_일반_질문', '멤버십_사용_요청',\n",
       "       '구매_오류_요청', '예약_취소_질문', '웹사이트_오류_질문', '웹사이트_사용_확인', '웹사이트_가입_질문',\n",
       "       '포장_비용_확인', '포장_일반_확인', '행사_유형_질문', '멤버십_오류_질문', '예약_취소_요청',\n",
       "       '결제_할인_요청', '교환|반품|환불_시간_질문', 'AS', '행사_기간_요청', '결제_영수증_확인',\n",
       "       '구매_변경_요청', '예약_방법_확인', '행사_일반_질문', '구매_예약_질문', '부가서비스_방법_요청',\n",
       "       '웹사이트_오류_요청', '결제_추가_요청', '멤버십_가입_질문', '구매_변경_질문',\n",
       "       '교환|반품|환불_시간_확인', '멤버십_적립_요청', '결제_재결제_요청', '교환|반품|환불_일반_확인',\n",
       "       '결제_오류_확인', '부가서비스_날짜_질문', '행사_날짜_질문', '구매_변경_확인', '결제_취소_질문',\n",
       "       '포장_일반_요청', '교환|반품|환불_비용_질문', '구매_추가_확인', '행사_유형_요청', '멤버십_사용_확인',\n",
       "       '포장_비용_질문', '결제_할인_질문', '결제_수단_질문', '부가서비스_비용_질문', '구매_추가_요청',\n",
       "       '결제_시기_확인', '웹사이트_오류_확인', '행사_기간_확인', '행사_정보_요청', '행사_일반_확인',\n",
       "       '교환|반품|환불_날짜_질문', '결제_시기_질문', '행사_정보_확인', '멤버십_적립_질문', '멤버십_가입_요청',\n",
       "       '결제_방식_요청', '결제_오류_요청', '결제_추가_확인', '결제_취소_요청', '행사_유형_비교',\n",
       "       '예약_방법_요청', '교환|반품|환불_방법_확인', '결제_수단_요청', '구매_취소_질문', '결제_일반_확인',\n",
       "       '멤버십_적립_확인', '결제_수단_확인', '멤버십_일반_확인', '교환|반품|환불_일반_비교',\n",
       "       '멤버십_가입_확인', '예약_변경_질문', '결제_오류_질문', '웹사이트_사용_질문', '멤버십_사용_질문',\n",
       "       '구매_추가_질문', '행사_일반_비교', '웹사이트_사용_요청', '결제_시기_요청', '결제_일반_비교',\n",
       "       '예약_변경_요청', '결제_영수증_질문', '포장_방식_질문', '결제_추가_질문', '부가서비스_방법_질문',\n",
       "       '멤버십_일반_질문', '결제_일반_질문', '교환|반품|환불_일반_질문', '행사_유형_확인', '예약_비용_질문',\n",
       "       '구매_취소_확인', '교환|반품|환불_방법_요청', '결제_방식_질문', '결제_취소_확인', '구매_예약_요청',\n",
       "       '구매_취소_요청', '교환|반품|환불_비용_확인', '행사_기간_질문', '교환|반품|환불_일반_요청',\n",
       "       '교환|반품|환불_방법_질문', '교환|반품|환불_시간_요청', '결제_재결제_확인', '예약_변경_확인',\n",
       "       '포장_비용_비교', '포장_방식_확인', '포장_방식_요청', '구매_오류_질문', '멤버십_일반_요청',\n",
       "       '예약_방법_질문', '결제_방식_확인', '결제_할인_확인', '행사_정보_질문', '결제_재결제_질문',\n",
       "       '포장_비용_요청', '행사_날짜_확인', '교환|반품|환불_비용_요청', '행사_일반_요청', '결제_일반_요청'],\n",
       "      dtype=object)"
      ]
     },
     "execution_count": 95,
     "metadata": {},
     "output_type": "execute_result"
    }
   ],
   "source": [
    "# 'intent' 열의 unique 값을 가져와서 새로운 intent로 분류\n",
    "def categorize_intent(original_intent):\n",
    "    for keyword in intent_list:\n",
    "        if keyword in original_intent:\n",
    "            return keyword\n",
    "    return original_intent\n",
    "\n",
    "data_cleaned['new_intent'] = data_cleaned['intent'].apply(categorize_intent)\n",
    "\n",
    "# 새로운 intent의 unique 값 확인\n",
    "new_intent_unique = data_cleaned['new_intent'].unique()\n",
    "new_intent_unique\n"
   ]
  },
  {
   "cell_type": "code",
   "execution_count": 96,
   "metadata": {},
   "outputs": [
    {
     "data": {
      "text/html": [
       "<div>\n",
       "<style scoped>\n",
       "    .dataframe tbody tr th:only-of-type {\n",
       "        vertical-align: middle;\n",
       "    }\n",
       "\n",
       "    .dataframe tbody tr th {\n",
       "        vertical-align: top;\n",
       "    }\n",
       "\n",
       "    .dataframe thead th {\n",
       "        text-align: right;\n",
       "    }\n",
       "</style>\n",
       "<table border=\"1\" class=\"dataframe\">\n",
       "  <thead>\n",
       "    <tr style=\"text-align: right;\">\n",
       "      <th></th>\n",
       "      <th>query</th>\n",
       "      <th>intent</th>\n",
       "      <th>new_intent</th>\n",
       "    </tr>\n",
       "  </thead>\n",
       "  <tbody>\n",
       "    <tr>\n",
       "      <th>1264</th>\n",
       "      <td>화면상에서 연코코아색이라고 해서 주문했는데 연코코아색이 연한 그레이 색인가요?</td>\n",
       "      <td>제품_품질_비교</td>\n",
       "      <td>제품</td>\n",
       "    </tr>\n",
       "    <tr>\n",
       "      <th>2227</th>\n",
       "      <td>흡집 없는 걸로 검수 후 배송 부탁드려요?</td>\n",
       "      <td>제품_품질_요청</td>\n",
       "      <td>제품</td>\n",
       "    </tr>\n",
       "    <tr>\n",
       "      <th>2243</th>\n",
       "      <td>방금 주문했는데? 선물하는 거니 하자없는 깨끗한 상품으로 보내주세요</td>\n",
       "      <td>제품_품질_요청</td>\n",
       "      <td>제품</td>\n",
       "    </tr>\n",
       "    <tr>\n",
       "      <th>2268</th>\n",
       "      <td>화면과 동일 상품이 아니면 유사품일 경우라면 주문하고 싶지 않은데 자세한 답변 부탁...</td>\n",
       "      <td>제품_품질_요청</td>\n",
       "      <td>제품</td>\n",
       "    </tr>\n",
       "    <tr>\n",
       "      <th>2687</th>\n",
       "      <td>이 매장에 여자아이 거는 별로 없나봐요?</td>\n",
       "      <td>제품_구성_질문</td>\n",
       "      <td>제품</td>\n",
       "    </tr>\n",
       "    <tr>\n",
       "      <th>...</th>\n",
       "      <td>...</td>\n",
       "      <td>...</td>\n",
       "      <td>...</td>\n",
       "    </tr>\n",
       "    <tr>\n",
       "      <th>202446</th>\n",
       "      <td>3개 주문하였는데 2개가 8일에 입고 예정이라고 하셨죠?</td>\n",
       "      <td>제품_입고_확인</td>\n",
       "      <td>제품</td>\n",
       "    </tr>\n",
       "    <tr>\n",
       "      <th>202616</th>\n",
       "      <td>단체 티셔츠 주문하려고 하는데 로고를 넣을 수 있나요?</td>\n",
       "      <td>제품_커스텀_요청</td>\n",
       "      <td>제품</td>\n",
       "    </tr>\n",
       "    <tr>\n",
       "      <th>202629</th>\n",
       "      <td>이 부츠 길이를 원하는 길이로 커스텀 주문할 수 있나요?</td>\n",
       "      <td>제품_커스텀_요청</td>\n",
       "      <td>제품</td>\n",
       "    </tr>\n",
       "    <tr>\n",
       "      <th>202648</th>\n",
       "      <td>비즈 팔찌 원하는 디자인으로 주문제작도 가능해요?</td>\n",
       "      <td>제품_커스텀_요청</td>\n",
       "      <td>제품</td>\n",
       "    </tr>\n",
       "    <tr>\n",
       "      <th>202656</th>\n",
       "      <td>조거네이비 주문하려 하는데 배가 많이 나와서 허리에 맞추면 길이가 남아서요길이 조정...</td>\n",
       "      <td>제품_커스텀_요청</td>\n",
       "      <td>제품</td>\n",
       "    </tr>\n",
       "  </tbody>\n",
       "</table>\n",
       "<p>5028 rows × 3 columns</p>\n",
       "</div>"
      ],
      "text/plain": [
       "                                                    query     intent  \\\n",
       "1264          화면상에서 연코코아색이라고 해서 주문했는데 연코코아색이 연한 그레이 색인가요?   제품_품질_비교   \n",
       "2227                              흡집 없는 걸로 검수 후 배송 부탁드려요?   제품_품질_요청   \n",
       "2243                방금 주문했는데? 선물하는 거니 하자없는 깨끗한 상품으로 보내주세요   제품_품질_요청   \n",
       "2268    화면과 동일 상품이 아니면 유사품일 경우라면 주문하고 싶지 않은데 자세한 답변 부탁...   제품_품질_요청   \n",
       "2687                               이 매장에 여자아이 거는 별로 없나봐요?   제품_구성_질문   \n",
       "...                                                   ...        ...   \n",
       "202446                    3개 주문하였는데 2개가 8일에 입고 예정이라고 하셨죠?   제품_입고_확인   \n",
       "202616                     단체 티셔츠 주문하려고 하는데 로고를 넣을 수 있나요?  제품_커스텀_요청   \n",
       "202629                    이 부츠 길이를 원하는 길이로 커스텀 주문할 수 있나요?  제품_커스텀_요청   \n",
       "202648                        비즈 팔찌 원하는 디자인으로 주문제작도 가능해요?  제품_커스텀_요청   \n",
       "202656  조거네이비 주문하려 하는데 배가 많이 나와서 허리에 맞추면 길이가 남아서요길이 조정...  제품_커스텀_요청   \n",
       "\n",
       "       new_intent  \n",
       "1264           제품  \n",
       "2227           제품  \n",
       "2243           제품  \n",
       "2268           제품  \n",
       "2687           제품  \n",
       "...           ...  \n",
       "202446         제품  \n",
       "202616         제품  \n",
       "202629         제품  \n",
       "202648         제품  \n",
       "202656         제품  \n",
       "\n",
       "[5028 rows x 3 columns]"
      ]
     },
     "execution_count": 96,
     "metadata": {},
     "output_type": "execute_result"
    }
   ],
   "source": [
    "# '제품' intent에 속하면서 동시에 '배송', 'AS', '매장', '주문' 키워드를 포함하는 쿼리들을 필터링\n",
    "product_with_other_keywords = data_cleaned[(data_cleaned['new_intent'] == '제품') & \n",
    "                                           (data_cleaned['query'].str.contains('|'.join(['배송', 'AS', '매장', '주문'])))]\n",
    "\n",
    "product_with_other_keywords\n"
   ]
  },
  {
   "cell_type": "code",
   "execution_count": 97,
   "metadata": {},
   "outputs": [
    {
     "name": "stdout",
     "output_type": "stream",
     "text": [
      "<class 'pandas.core.frame.DataFrame'>\n",
      "Index: 192355 entries, 0 to 203068\n",
      "Data columns (total 3 columns):\n",
      " #   Column      Non-Null Count   Dtype \n",
      "---  ------      --------------   ----- \n",
      " 0   query       192355 non-null  object\n",
      " 1   intent      192355 non-null  object\n",
      " 2   new_intent  192355 non-null  object\n",
      "dtypes: object(3)\n",
      "memory usage: 5.9+ MB\n"
     ]
    }
   ],
   "source": [
    "# 해당 조건에 맞는 행들을 삭제\n",
    "data_cleaned_final = data_cleaned.drop(product_with_other_keywords.index)\n",
    "\n",
    "# 결과 확인\n",
    "data_cleaned_final.info()\n"
   ]
  },
  {
   "cell_type": "code",
   "execution_count": 98,
   "metadata": {},
   "outputs": [
    {
     "data": {
      "text/plain": [
       "20243"
      ]
     },
     "execution_count": 98,
     "metadata": {},
     "output_type": "execute_result"
    }
   ],
   "source": [
    "# '교환|반품|환불' 키워드가 포함된 intent를 'AS'로 변경\n",
    "data_cleaned_final['new_intent'] = data_cleaned_final['new_intent'].apply(lambda x: 'AS' if '교환|반품|환불' in x else x)\n",
    "\n",
    "# 변경된 결과 확인\n",
    "as_count = (data_cleaned_final['new_intent'] == 'AS').sum()\n",
    "as_count\n"
   ]
  },
  {
   "cell_type": "code",
   "execution_count": 99,
   "metadata": {},
   "outputs": [
    {
     "data": {
      "text/plain": [
       "array(['주문', '배송', '매장', '제품', '결제_영수증_요청', '포장_일반_질문', '멤버십_사용_요청',\n",
       "       '구매_오류_요청', '예약_취소_질문', '웹사이트_오류_질문', '웹사이트_사용_확인', '웹사이트_가입_질문',\n",
       "       '포장_비용_확인', '포장_일반_확인', '행사_유형_질문', '멤버십_오류_질문', '예약_취소_요청',\n",
       "       '결제_할인_요청', 'AS', '행사_기간_요청', '결제_영수증_확인', '구매_변경_요청', '예약_방법_확인',\n",
       "       '행사_일반_질문', '구매_예약_질문', '부가서비스_방법_요청', '웹사이트_오류_요청', '결제_추가_요청',\n",
       "       '멤버십_가입_질문', '구매_변경_질문', '멤버십_적립_요청', '결제_재결제_요청', '결제_오류_확인',\n",
       "       '부가서비스_날짜_질문', '행사_날짜_질문', '구매_변경_확인', '결제_취소_질문', '포장_일반_요청',\n",
       "       '구매_추가_확인', '행사_유형_요청', '멤버십_사용_확인', '포장_비용_질문', '결제_할인_질문',\n",
       "       '결제_수단_질문', '부가서비스_비용_질문', '구매_추가_요청', '결제_시기_확인', '웹사이트_오류_확인',\n",
       "       '행사_기간_확인', '행사_정보_요청', '행사_일반_확인', '결제_시기_질문', '행사_정보_확인',\n",
       "       '멤버십_적립_질문', '멤버십_가입_요청', '결제_방식_요청', '결제_오류_요청', '결제_추가_확인',\n",
       "       '결제_취소_요청', '행사_유형_비교', '예약_방법_요청', '결제_수단_요청', '구매_취소_질문',\n",
       "       '결제_일반_확인', '멤버십_적립_확인', '결제_수단_확인', '멤버십_일반_확인', '멤버십_가입_확인',\n",
       "       '예약_변경_질문', '결제_오류_질문', '웹사이트_사용_질문', '멤버십_사용_질문', '구매_추가_질문',\n",
       "       '행사_일반_비교', '웹사이트_사용_요청', '결제_시기_요청', '결제_일반_비교', '예약_변경_요청',\n",
       "       '결제_영수증_질문', '포장_방식_질문', '결제_추가_질문', '부가서비스_방법_질문', '멤버십_일반_질문',\n",
       "       '결제_일반_질문', '행사_유형_확인', '예약_비용_질문', '구매_취소_확인', '결제_방식_질문',\n",
       "       '결제_취소_확인', '구매_예약_요청', '구매_취소_요청', '행사_기간_질문', '결제_재결제_확인',\n",
       "       '예약_변경_확인', '포장_비용_비교', '포장_방식_확인', '포장_방식_요청', '구매_오류_질문',\n",
       "       '멤버십_일반_요청', '예약_방법_질문', '결제_방식_확인', '결제_할인_확인', '행사_정보_질문',\n",
       "       '결제_재결제_질문', '포장_비용_요청', '행사_날짜_확인', '행사_일반_요청', '결제_일반_요청'],\n",
       "      dtype=object)"
      ]
     },
     "execution_count": 99,
     "metadata": {},
     "output_type": "execute_result"
    }
   ],
   "source": [
    "new_intent_unique = data_cleaned_final['new_intent'].unique()\n",
    "new_intent_unique"
   ]
  },
  {
   "cell_type": "code",
   "execution_count": 100,
   "metadata": {},
   "outputs": [
    {
     "data": {
      "text/html": [
       "<div>\n",
       "<style scoped>\n",
       "    .dataframe tbody tr th:only-of-type {\n",
       "        vertical-align: middle;\n",
       "    }\n",
       "\n",
       "    .dataframe tbody tr th {\n",
       "        vertical-align: top;\n",
       "    }\n",
       "\n",
       "    .dataframe thead th {\n",
       "        text-align: right;\n",
       "    }\n",
       "</style>\n",
       "<table border=\"1\" class=\"dataframe\">\n",
       "  <thead>\n",
       "    <tr style=\"text-align: right;\">\n",
       "      <th></th>\n",
       "      <th>query</th>\n",
       "      <th>intent</th>\n",
       "      <th>new_intent</th>\n",
       "    </tr>\n",
       "  </thead>\n",
       "  <tbody>\n",
       "  </tbody>\n",
       "</table>\n",
       "</div>"
      ],
      "text/plain": [
       "Empty DataFrame\n",
       "Columns: [query, intent, new_intent]\n",
       "Index: []"
      ]
     },
     "execution_count": 100,
     "metadata": {},
     "output_type": "execute_result"
    }
   ],
   "source": [
    "# 주어진 intent list를 '기타'로 변경\n",
    "other_intent_list = [\n",
    "    '결제_영수증_요청', '포장_일반_질문', '멤버십_사용_요청',\n",
    "       '구매_오류_요청', '예약_취소_질문', '웹사이트_오류_질문', '웹사이트_사용_확인', '웹사이트_가입_질문',\n",
    "       '포장_비용_확인', '포장_일반_확인', '행사_유형_질문', '멤버십_오류_질문', '예약_취소_요청',\n",
    "       '결제_할인_요청', '교환|반품|환불_시간_질문', '행사_기간_요청', '결제_영수증_확인',\n",
    "       '구매_변경_요청', '예약_방법_확인', '행사_일반_질문', '구매_예약_질문', '부가서비스_방법_요청',\n",
    "       '웹사이트_오류_요청', '결제_추가_요청', '멤버십_가입_질문', '구매_변경_질문',\n",
    "       '교환|반품|환불_시간_확인', '멤버십_적립_요청', '결제_재결제_요청', '교환|반품|환불_일반_확인',\n",
    "       '결제_오류_확인', '부가서비스_날짜_질문', '행사_날짜_질문', '구매_변경_확인', '결제_취소_질문',\n",
    "       '포장_일반_요청', '교환|반품|환불_비용_질문', '구매_추가_확인', '행사_유형_요청', '멤버십_사용_확인',\n",
    "       '포장_비용_질문', '결제_할인_질문', '결제_수단_질문', '부가서비스_비용_질문', '구매_추가_요청',\n",
    "       '결제_시기_확인', '웹사이트_오류_확인', '행사_기간_확인', '행사_정보_요청', '행사_일반_확인',\n",
    "       '교환|반품|환불_날짜_질문', '결제_시기_질문', '행사_정보_확인', '멤버십_적립_질문', '멤버십_가입_요청',\n",
    "       '결제_방식_요청', '결제_오류_요청', '결제_추가_확인', '결제_취소_요청', '행사_유형_비교',\n",
    "       '예약_방법_요청', '교환|반품|환불_방법_확인', '결제_수단_요청', '구매_취소_질문', '결제_일반_확인',\n",
    "       '멤버십_적립_확인', '결제_수단_확인', '멤버십_일반_확인', '교환|반품|환불_일반_비교',\n",
    "       '멤버십_가입_확인', '예약_변경_질문', '결제_오류_질문', '웹사이트_사용_질문', '멤버십_사용_질문',\n",
    "       '구매_추가_질문', '행사_일반_비교', '웹사이트_사용_요청', '결제_시기_요청', '결제_일반_비교',\n",
    "       '예약_변경_요청', '결제_영수증_질문', '포장_방식_질문', '결제_추가_질문', '부가서비스_방법_질문',\n",
    "       '멤버십_일반_질문', '결제_일반_질문', '교환|반품|환불_일반_질문', '행사_유형_확인', '예약_비용_질문',\n",
    "       '구매_취소_확인', '교환|반품|환불_방법_요청', '결제_방식_질문', '결제_취소_확인', '구매_예약_요청',\n",
    "       '구매_취소_요청', '교환|반품|환불_비용_확인', '행사_기간_질문', '교환|반품|환불_일반_요청',\n",
    "       '교환|반품|환불_방법_질문', '교환|반품|환불_시간_요청', '결제_재결제_확인', '예약_변경_확인',\n",
    "       '포장_비용_비교', '포장_방식_확인', '포장_방식_요청', '구매_오류_질문', '멤버십_일반_요청',\n",
    "       '예약_방법_질문', '결제_방식_확인', '결제_할인_확인', '행사_정보_질문', '결제_재결제_질문',\n",
    "       '포장_비용_요청', '행사_날짜_확인', '교환|반품|환불_비용_요청', '행사_일반_요청', '결제_일반_요청'\n",
    "]\n",
    "\n",
    "data_cleaned_final['new_intent'] = data_cleaned_final['new_intent'].apply(lambda x: '기타' if x in other_intent_list else x)\n",
    "\n",
    "# '기타' 열에서 intent_list = ['주문', '배송', '제품', '매장', 'AS'] 인 쿼리를 필터링\n",
    "other_with_intent_keywords = data_cleaned_final[(data_cleaned_final['new_intent'] == '기타') & \n",
    "                                                (data_cleaned_final['query'].str.contains('|'.join(intent_list)))]\n",
    "\n",
    "other_with_intent_keywords\n"
   ]
  },
  {
   "cell_type": "code",
   "execution_count": 101,
   "metadata": {},
   "outputs": [
    {
     "data": {
      "text/plain": [
       "array(['주문', '배송', '매장', '제품', '기타', 'AS'], dtype=object)"
      ]
     },
     "execution_count": 101,
     "metadata": {},
     "output_type": "execute_result"
    }
   ],
   "source": [
    "data_cleaned_final['new_intent'].unique()"
   ]
  },
  {
   "cell_type": "code",
   "execution_count": 102,
   "metadata": {},
   "outputs": [
    {
     "data": {
      "text/plain": [
       "new_intent\n",
       "주문       575\n",
       "배송     35401\n",
       "매장      3907\n",
       "제품    117024\n",
       "기타     15205\n",
       "AS     20243\n",
       "Name: count, dtype: int64"
      ]
     },
     "execution_count": 102,
     "metadata": {},
     "output_type": "execute_result"
    }
   ],
   "source": [
    "intent_counts_final = data_cleaned_final['new_intent'].value_counts()[['주문', '배송', '매장', '제품', '기타', 'AS']]\n",
    "intent_counts_final"
   ]
  },
  {
   "cell_type": "code",
   "execution_count": 103,
   "metadata": {},
   "outputs": [
    {
     "data": {
      "text/plain": [
       "intent\n",
       "제품_정보_질문     35311\n",
       "제품_재고_질문     16313\n",
       "제품_추천_질문      7435\n",
       "제품_입고_질문      7431\n",
       "제품_방법_질문      6935\n",
       "             ...  \n",
       "제품_용도_비교         2\n",
       "제품_구매_질문         2\n",
       "제품_구성_비교         1\n",
       "제품_원산지_비교        1\n",
       "제품_입고_비교         1\n",
       "Name: count, Length: 67, dtype: int64"
      ]
     },
     "execution_count": 103,
     "metadata": {},
     "output_type": "execute_result"
    }
   ],
   "source": [
    "# '기타' 항목을 삭제\n",
    "data_without_etc = data_cleaned_final[data_cleaned_final['new_intent'] != '기타']\n",
    "\n",
    "# 'new_intent'가 '제품'인 경우의 'intent' 값을 많은 순으로 나열\n",
    "product_intent_counts = data_without_etc[data_without_etc['new_intent'] == '제품']['intent'].value_counts()\n",
    "product_intent_counts\n"
   ]
  },
  {
   "cell_type": "code",
   "execution_count": 104,
   "metadata": {},
   "outputs": [
    {
     "name": "stderr",
     "output_type": "stream",
     "text": [
      "/tmp/ipykernel_2693/3199373379.py:10: SettingWithCopyWarning: \n",
      "A value is trying to be set on a copy of a slice from a DataFrame.\n",
      "Try using .loc[row_indexer,col_indexer] = value instead\n",
      "\n",
      "See the caveats in the documentation: https://pandas.pydata.org/pandas-docs/stable/user_guide/indexing.html#returning-a-view-versus-a-copy\n",
      "  data_without_etc['product_subintent'] = data_without_etc[data_without_etc['new_intent'] == '제품']['intent'].apply(categorize_product_subintent)\n"
     ]
    },
    {
     "data": {
      "text/plain": [
       "product_subintent\n",
       "제품_기타    62343\n",
       "제품_정보    37399\n",
       "제품_재고    17282\n",
       "Name: count, dtype: int64"
      ]
     },
     "execution_count": 104,
     "metadata": {},
     "output_type": "execute_result"
    }
   ],
   "source": [
    "# '제품' 카테고리를 세부 카테고리로 분리\n",
    "def categorize_product_subintent(intent):\n",
    "    if '정보' in intent:\n",
    "        return '제품_정보'\n",
    "    elif '재고' in intent:\n",
    "        return '제품_재고'\n",
    "    else:\n",
    "        return '제품_기타'\n",
    "\n",
    "data_without_etc['product_subintent'] = data_without_etc[data_without_etc['new_intent'] == '제품']['intent'].apply(categorize_product_subintent)\n",
    "\n",
    "# 변경된 결과의 'product_subintent' 열 값 확인\n",
    "product_subintent_counts = data_without_etc['product_subintent'].value_counts(dropna=True)\n",
    "product_subintent_counts\n"
   ]
  },
  {
   "cell_type": "code",
   "execution_count": 105,
   "metadata": {},
   "outputs": [
    {
     "data": {
      "text/html": [
       "<div>\n",
       "<style scoped>\n",
       "    .dataframe tbody tr th:only-of-type {\n",
       "        vertical-align: middle;\n",
       "    }\n",
       "\n",
       "    .dataframe tbody tr th {\n",
       "        vertical-align: top;\n",
       "    }\n",
       "\n",
       "    .dataframe thead th {\n",
       "        text-align: right;\n",
       "    }\n",
       "</style>\n",
       "<table border=\"1\" class=\"dataframe\">\n",
       "  <thead>\n",
       "    <tr style=\"text-align: right;\">\n",
       "      <th></th>\n",
       "      <th>query</th>\n",
       "      <th>intent</th>\n",
       "      <th>new_intent</th>\n",
       "      <th>product_subintent</th>\n",
       "    </tr>\n",
       "  </thead>\n",
       "  <tbody>\n",
       "    <tr>\n",
       "      <th>51</th>\n",
       "      <td>블랙 사이즈 교환하고 싶은데 배송료는 1회분 부담하면 되지요?</td>\n",
       "      <td>배송_비용_질문</td>\n",
       "      <td>배송</td>\n",
       "      <td>NaN</td>\n",
       "    </tr>\n",
       "    <tr>\n",
       "      <th>83</th>\n",
       "      <td>03번 아버지 드릴려고 구입했는데 사이즈가 커서 사이즈 교환하고 싶은데 택배 비 얼...</td>\n",
       "      <td>배송_비용_질문</td>\n",
       "      <td>배송</td>\n",
       "      <td>NaN</td>\n",
       "    </tr>\n",
       "    <tr>\n",
       "      <th>131</th>\n",
       "      <td>다른 제품 하나 더 구매하면 그때 배송 같이 보내주셔서 교환배송비 2500원에 되나요?</td>\n",
       "      <td>배송_비용_질문</td>\n",
       "      <td>배송</td>\n",
       "      <td>NaN</td>\n",
       "    </tr>\n",
       "    <tr>\n",
       "      <th>132</th>\n",
       "      <td>반품이나 교환시 배송비 얼마나 듬?</td>\n",
       "      <td>배송_비용_질문</td>\n",
       "      <td>배송</td>\n",
       "      <td>NaN</td>\n",
       "    </tr>\n",
       "    <tr>\n",
       "      <th>212</th>\n",
       "      <td>22번 환불요청했는데요, 오배송된 상품과 같이 보내면 환불 배송비 내야 하쥬?</td>\n",
       "      <td>배송_비용_질문</td>\n",
       "      <td>배송</td>\n",
       "      <td>NaN</td>\n",
       "    </tr>\n",
       "    <tr>\n",
       "      <th>...</th>\n",
       "      <td>...</td>\n",
       "      <td>...</td>\n",
       "      <td>...</td>\n",
       "      <td>...</td>\n",
       "    </tr>\n",
       "    <tr>\n",
       "      <th>199290</th>\n",
       "      <td>흰색 부분이 겹쳐져서 꿰매져 있어야 하는데 중간 부분이 다른 곳과 달리 뜯어져서 올...</td>\n",
       "      <td>제품_불량_요청</td>\n",
       "      <td>제품</td>\n",
       "      <td>제품_기타</td>\n",
       "    </tr>\n",
       "    <tr>\n",
       "      <th>199314</th>\n",
       "      <td>기초화장품 세트 확인해보니 용기 하나가 살짝 금이 가있습니다. 교환해주세요.</td>\n",
       "      <td>제품_불량_요청</td>\n",
       "      <td>제품</td>\n",
       "      <td>제품_기타</td>\n",
       "    </tr>\n",
       "    <tr>\n",
       "      <th>201126</th>\n",
       "      <td>교환신청했는데요 아직 배송 전인 것 같은데 주소 변경 가능할까요?</td>\n",
       "      <td>배송_방법_질문</td>\n",
       "      <td>배송</td>\n",
       "      <td>NaN</td>\n",
       "    </tr>\n",
       "    <tr>\n",
       "      <th>202494</th>\n",
       "      <td>흑진주로 교환 요청했는데 일반 진주로 배송이와서 배송내역 재확인 부탁드립니다.</td>\n",
       "      <td>배송_오류_요청</td>\n",
       "      <td>배송</td>\n",
       "      <td>NaN</td>\n",
       "    </tr>\n",
       "    <tr>\n",
       "      <th>203039</th>\n",
       "      <td>아니 가방 찢겨져 있어서 교환신청했더니 그대로 보내셨네요?</td>\n",
       "      <td>제품_불량_확인</td>\n",
       "      <td>제품</td>\n",
       "      <td>제품_기타</td>\n",
       "    </tr>\n",
       "  </tbody>\n",
       "</table>\n",
       "<p>525 rows × 4 columns</p>\n",
       "</div>"
      ],
      "text/plain": [
       "                                                    query    intent  \\\n",
       "51                     블랙 사이즈 교환하고 싶은데 배송료는 1회분 부담하면 되지요?  배송_비용_질문   \n",
       "83      03번 아버지 드릴려고 구입했는데 사이즈가 커서 사이즈 교환하고 싶은데 택배 비 얼...  배송_비용_질문   \n",
       "131      다른 제품 하나 더 구매하면 그때 배송 같이 보내주셔서 교환배송비 2500원에 되나요?  배송_비용_질문   \n",
       "132                                   반품이나 교환시 배송비 얼마나 듬?  배송_비용_질문   \n",
       "212           22번 환불요청했는데요, 오배송된 상품과 같이 보내면 환불 배송비 내야 하쥬?  배송_비용_질문   \n",
       "...                                                   ...       ...   \n",
       "199290  흰색 부분이 겹쳐져서 꿰매져 있어야 하는데 중간 부분이 다른 곳과 달리 뜯어져서 올...  제품_불량_요청   \n",
       "199314         기초화장품 세트 확인해보니 용기 하나가 살짝 금이 가있습니다. 교환해주세요.  제품_불량_요청   \n",
       "201126               교환신청했는데요 아직 배송 전인 것 같은데 주소 변경 가능할까요?  배송_방법_질문   \n",
       "202494        흑진주로 교환 요청했는데 일반 진주로 배송이와서 배송내역 재확인 부탁드립니다.  배송_오류_요청   \n",
       "203039                   아니 가방 찢겨져 있어서 교환신청했더니 그대로 보내셨네요?  제품_불량_확인   \n",
       "\n",
       "       new_intent product_subintent  \n",
       "51             배송               NaN  \n",
       "83             배송               NaN  \n",
       "131            배송               NaN  \n",
       "132            배송               NaN  \n",
       "212            배송               NaN  \n",
       "...           ...               ...  \n",
       "199290         제품             제품_기타  \n",
       "199314         제품             제품_기타  \n",
       "201126         배송               NaN  \n",
       "202494         배송               NaN  \n",
       "203039         제품             제품_기타  \n",
       "\n",
       "[525 rows x 4 columns]"
      ]
     },
     "execution_count": 105,
     "metadata": {},
     "output_type": "execute_result"
    }
   ],
   "source": [
    "# 'AS'가 아닌 열에서 '환불' 또는 '교환' 키워드를 포함하는 경우를 필터링\n",
    "non_as_with_refund_exchange = data_without_etc[(data_without_etc['new_intent'] != 'AS') & \n",
    "                                               (data_without_etc['query'].str.contains('환불|교환'))]\n",
    "\n",
    "non_as_with_refund_exchange\n"
   ]
  },
  {
   "cell_type": "code",
   "execution_count": 106,
   "metadata": {},
   "outputs": [
    {
     "data": {
      "text/html": [
       "<div>\n",
       "<style scoped>\n",
       "    .dataframe tbody tr th:only-of-type {\n",
       "        vertical-align: middle;\n",
       "    }\n",
       "\n",
       "    .dataframe tbody tr th {\n",
       "        vertical-align: top;\n",
       "    }\n",
       "\n",
       "    .dataframe thead th {\n",
       "        text-align: right;\n",
       "    }\n",
       "</style>\n",
       "<table border=\"1\" class=\"dataframe\">\n",
       "  <thead>\n",
       "    <tr style=\"text-align: right;\">\n",
       "      <th></th>\n",
       "      <th>query</th>\n",
       "      <th>intent</th>\n",
       "      <th>new_intent</th>\n",
       "      <th>product_subintent</th>\n",
       "    </tr>\n",
       "  </thead>\n",
       "  <tbody>\n",
       "    <tr>\n",
       "      <th>0</th>\n",
       "      <td>아침도 아니고 밤 12시 30분에 결제한 건데도 그런가요?</td>\n",
       "      <td>주문_취소_확인</td>\n",
       "      <td>주문</td>\n",
       "      <td>NaN</td>\n",
       "    </tr>\n",
       "    <tr>\n",
       "      <th>1</th>\n",
       "      <td>실수로 취소하면 재주문해야 하는 거죠?</td>\n",
       "      <td>주문_취소_확인</td>\n",
       "      <td>주문</td>\n",
       "      <td>NaN</td>\n",
       "    </tr>\n",
       "    <tr>\n",
       "      <th>2</th>\n",
       "      <td>택배비 따로 추가되나요?</td>\n",
       "      <td>배송_비용_질문</td>\n",
       "      <td>배송</td>\n",
       "      <td>NaN</td>\n",
       "    </tr>\n",
       "    <tr>\n",
       "      <th>3</th>\n",
       "      <td>택배비 있나요?</td>\n",
       "      <td>배송_비용_질문</td>\n",
       "      <td>배송</td>\n",
       "      <td>NaN</td>\n",
       "    </tr>\n",
       "    <tr>\n",
       "      <th>4</th>\n",
       "      <td>택배비 따로 들어요</td>\n",
       "      <td>배송_비용_질문</td>\n",
       "      <td>배송</td>\n",
       "      <td>NaN</td>\n",
       "    </tr>\n",
       "  </tbody>\n",
       "</table>\n",
       "</div>"
      ],
      "text/plain": [
       "                              query    intent new_intent product_subintent\n",
       "0  아침도 아니고 밤 12시 30분에 결제한 건데도 그런가요?  주문_취소_확인         주문               NaN\n",
       "1             실수로 취소하면 재주문해야 하는 거죠?  주문_취소_확인         주문               NaN\n",
       "2                     택배비 따로 추가되나요?  배송_비용_질문         배송               NaN\n",
       "3                          택배비 있나요?  배송_비용_질문         배송               NaN\n",
       "4                        택배비 따로 들어요  배송_비용_질문         배송               NaN"
      ]
     },
     "execution_count": 106,
     "metadata": {},
     "output_type": "execute_result"
    }
   ],
   "source": [
    "# 해당 조건에 맞는 행들을 삭제\n",
    "data_final_cleaned = data_without_etc.drop(non_as_with_refund_exchange.index)\n",
    "\n",
    "# 결과 확인\n",
    "data_final_cleaned.head()\n"
   ]
  },
  {
   "cell_type": "code",
   "execution_count": 107,
   "metadata": {},
   "outputs": [],
   "source": [
    "# 'product_subintent'가 있는 경우에는 그 값을 'new_intent'로 업데이트\n",
    "data_final_cleaned['new_intent'] = data_final_cleaned.apply(lambda row: row['product_subintent'] if pd.notnull(row['product_subintent']) else row['new_intent'], axis=1)\n",
    "\n",
    "# 'new_intent' 별로 총 개수 계산\n",
    "new_intent_counts_final = data_final_cleaned['new_intent'].value_counts()\n",
    "new_intent_counts_final\n",
    "\n",
    "dfs=data_final_cleaned.drop(columns=['intent', 'product_subintent']).rename(columns={'new_intent' : 'intent'})"
   ]
  },
  {
   "cell_type": "code",
   "execution_count": 108,
   "metadata": {},
   "outputs": [],
   "source": [
    "intent_dict_unique = {'주문' : 0, '배송': 1, '매장':2, 'AS':3, '제품_정보':4, '제품_재고':5,\n",
    "                    #    '제품_기타':6\n",
    "                       }\n",
    "\n",
    "def mapping_label(df, intent_dict):\n",
    "    df['label'] = df['intent'].map(intent_dict)\n",
    "    return df\n",
    "\n",
    "# Apply the mapping function to the dataframe\n",
    "df_mapped = mapping_label(dfs, intent_dict_unique)\n",
    "     \n"
   ]
  },
  {
   "cell_type": "code",
   "execution_count": 109,
   "metadata": {},
   "outputs": [
    {
     "name": "stdout",
     "output_type": "stream",
     "text": [
      "label\n",
      "4.0    37356\n",
      "1.0    35110\n",
      "3.0    20243\n",
      "5.0    17249\n",
      "2.0     3894\n",
      "0.0      574\n",
      "Name: count, dtype: int64\n"
     ]
    },
    {
     "data": {
      "text/plain": [
       "intent\n",
       "제품_기타    62199\n",
       "제품_정보    37356\n",
       "배송       35110\n",
       "AS       20243\n",
       "제품_재고    17249\n",
       "매장        3894\n",
       "주문         574\n",
       "Name: count, dtype: int64"
      ]
     },
     "execution_count": 109,
     "metadata": {},
     "output_type": "execute_result"
    }
   ],
   "source": [
    "print(df_mapped['label'].value_counts())\n",
    "df_mapped['intent'].value_counts()\n"
   ]
  },
  {
   "cell_type": "code",
   "execution_count": 110,
   "metadata": {},
   "outputs": [],
   "source": [
    "df_mapped.to_csv('./230814_intent_labeled_by_6.csv', index=False)"
   ]
  },
  {
   "cell_type": "code",
   "execution_count": 111,
   "metadata": {},
   "outputs": [
    {
     "data": {
      "text/plain": [
       "{'주문': [('주문했는데', 110),\n",
       "  ('주문', 100),\n",
       "  ('안', 79),\n",
       "  ('수', 69),\n",
       "  ('변경', 54),\n",
       "  ('사이즈', 47),\n",
       "  ('가능할까요?', 47),\n",
       "  ('가능한가요?', 45),\n",
       "  ('되나요?', 41),\n",
       "  ('있나요?', 35)],\n",
       " '배송': [('언제', 8444),\n",
       "  ('배송', 7722),\n",
       "  ('안', 3762),\n",
       "  ('수', 3737),\n",
       "  ('오늘', 3444),\n",
       "  ('주문했는데', 3171),\n",
       "  ('건가요?', 2672),\n",
       "  ('언제쯤', 2659),\n",
       "  ('준비', 2543),\n",
       "  ('배송이', 2035)],\n",
       " '매장': [('매장', 683),\n",
       "  ('수', 509),\n",
       "  ('있나요?', 508),\n",
       "  ('좀', 306),\n",
       "  ('이', 274),\n",
       "  ('여기', 235),\n",
       "  ('있는', 221),\n",
       "  ('싶은데', 215),\n",
       "  ('몇', 210),\n",
       "  ('피팅룸', 202)],\n",
       " '제품_기타': [('이', 7418),\n",
       "  ('수', 4189),\n",
       "  ('있나요?', 3249),\n",
       "  ('좀', 3193),\n",
       "  ('되나요?', 2911),\n",
       "  ('안', 2856),\n",
       "  ('언제', 2817),\n",
       "  ('어떤', 2724),\n",
       "  ('어떻게', 2403),\n",
       "  ('건가요?', 2369)],\n",
       " 'AS': [('반품', 2571),\n",
       "  ('언제', 2381),\n",
       "  ('교환', 2200),\n",
       "  ('안', 2196),\n",
       "  ('수', 2184),\n",
       "  ('환불', 1629),\n",
       "  ('되나요?', 1414),\n",
       "  ('있나요?', 1087),\n",
       "  ('건가요?', 1033),\n",
       "  ('가능한가요?', 1008)],\n",
       " '제품_정보': [('이', 5035),\n",
       "  ('사이즈', 2503),\n",
       "  ('건가요?', 2165),\n",
       "  ('있나요?', 2081),\n",
       "  ('있는', 1883),\n",
       "  ('사이즈가', 1726),\n",
       "  ('어떻게', 1446),\n",
       "  ('되나요?', 1405),\n",
       "  ('어떤', 1392),\n",
       "  ('몇', 1361)],\n",
       " '제품_재고': [('있나요?', 3174),\n",
       "  ('없나요?', 1667),\n",
       "  ('있어요?', 1652),\n",
       "  ('이', 1504),\n",
       "  ('있는', 961),\n",
       "  ('수', 917),\n",
       "  ('안', 775),\n",
       "  ('더', 739),\n",
       "  ('혹시', 721),\n",
       "  ('좀', 690)]}"
      ]
     },
     "execution_count": 111,
     "metadata": {},
     "output_type": "execute_result"
    }
   ],
   "source": [
    "from collections import Counter\n",
    "\n",
    "# Function to get the top 10 most common words for each intent label\n",
    "def get_top_words_per_intent(df):\n",
    "    # Dictionary to store the top words for each intent label\n",
    "    top_words_per_intent = {}\n",
    "    \n",
    "    # Unique intent labels in the dataset\n",
    "    unique_intents = df['intent'].unique()\n",
    "    \n",
    "    for intent in unique_intents:\n",
    "        # Filter the data for the current intent\n",
    "        intent_data = df[df['intent'] == intent]\n",
    "        \n",
    "        # Tokenize the queries and count the frequency of each word\n",
    "        words = ' '.join(intent_data['query']).split()\n",
    "        word_counts = Counter(words)\n",
    "        \n",
    "        # Get the top 10 most common words for this intent\n",
    "        top_words_per_intent[intent] = word_counts.most_common(10)\n",
    "    \n",
    "    return top_words_per_intent\n",
    "\n",
    "# Get the top 10 most common words for each intent label\n",
    "top_words_per_intent = get_top_words_per_intent(df_mapped)\n",
    "top_words_per_intent"
   ]
  },
  {
   "cell_type": "code",
   "execution_count": 112,
   "metadata": {},
   "outputs": [],
   "source": [
    "df_mapped = df_mapped.dropna(subset=['label'])"
   ]
  },
  {
   "cell_type": "code",
   "execution_count": 113,
   "metadata": {},
   "outputs": [
    {
     "data": {
      "text/plain": [
       "(93576, 3)"
      ]
     },
     "execution_count": 113,
     "metadata": {},
     "output_type": "execute_result"
    }
   ],
   "source": [
    "# Function to filter the queries based on the top keywords for each intent\n",
    "def filter_queries_based_on_keywords(df, top_words_per_intent):\n",
    "    # List to store the indices of rows to keep\n",
    "    indices_to_keep = []\n",
    "    \n",
    "    for intent, top_words in top_words_per_intent.items():\n",
    "        # Extract the top keywords for this intent\n",
    "        top_keywords = [word for word, _ in top_words]\n",
    "        \n",
    "        # Filter the data for the current intent\n",
    "        intent_data = df[df['intent'] == intent]\n",
    "        \n",
    "        # Find the indices of rows where the query contains at least one of the top keywords\n",
    "        indices = intent_data[intent_data['query'].apply(lambda x: any(keyword in x for keyword in top_keywords))].index\n",
    "        \n",
    "        # Add these indices to the list of indices to keep\n",
    "        indices_to_keep.extend(indices)\n",
    "    \n",
    "    # Filter the DataFrame based on the indices to keep\n",
    "    filtered_df = df.loc[indices_to_keep]\n",
    "    \n",
    "    return filtered_df\n",
    "\n",
    "# Filter the queries based on the top keywords for each intent\n",
    "filtered_df = filter_queries_based_on_keywords(df_mapped, top_words_per_intent)\n",
    "\n",
    "# Check the number of remaining rows in the filtered DataFrame\n",
    "filtered_df.shape\n"
   ]
  },
  {
   "cell_type": "code",
   "execution_count": null,
   "metadata": {},
   "outputs": [],
   "source": [
    "\n"
   ]
  },
  {
   "cell_type": "code",
   "execution_count": 114,
   "metadata": {},
   "outputs": [],
   "source": [
    "filtered_df.to_csv('./230817_intent_labeled_by_7.csv', index=False)"
   ]
  },
  {
   "cell_type": "code",
   "execution_count": 115,
   "metadata": {},
   "outputs": [],
   "source": [
    "unique_counts_per_intent = filtered_df.groupby('intent')['query'].nunique"
   ]
  },
  {
   "cell_type": "code",
   "execution_count": 116,
   "metadata": {},
   "outputs": [
    {
     "data": {
      "text/plain": [
       "<bound method SeriesGroupBy.nunique of <pandas.core.groupby.generic.SeriesGroupBy object at 0x7f06c9c071f0>>"
      ]
     },
     "execution_count": 116,
     "metadata": {},
     "output_type": "execute_result"
    }
   ],
   "source": [
    "unique_counts_per_intent"
   ]
  },
  {
   "cell_type": "code",
   "execution_count": null,
   "metadata": {},
   "outputs": [],
   "source": []
  }
 ],
 "metadata": {
  "kernelspec": {
   "display_name": "myenv",
   "language": "python",
   "name": "python3"
  },
  "language_info": {
   "codemirror_mode": {
    "name": "ipython",
    "version": 3
   },
   "file_extension": ".py",
   "mimetype": "text/x-python",
   "name": "python",
   "nbconvert_exporter": "python",
   "pygments_lexer": "ipython3",
   "version": "3.8.10"
  },
  "orig_nbformat": 4
 },
 "nbformat": 4,
 "nbformat_minor": 2
}
