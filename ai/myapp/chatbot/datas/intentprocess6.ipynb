{
 "cells": [
  {
   "cell_type": "code",
   "execution_count": 4,
   "metadata": {},
   "outputs": [
    {
     "data": {
      "text/plain": [
       "intent\n",
       "AS    19533\n",
       "매장     3733\n",
       "배송    36570\n",
       "제품    19233\n",
       "주문      548\n",
       "Name: query, dtype: int64"
      ]
     },
     "execution_count": 4,
     "metadata": {},
     "output_type": "execute_result"
    }
   ],
   "source": [
    "import pandas as pd\n",
    "\n",
    "df_mapped = pd.read_csv('./230817_intent_labeled_by_6.csv')\n",
    "\n",
    "df_mapped = df_mapped.dropna(subset=['label'])\n",
    "\n",
    "# Mapping function for '주문' label\n",
    "def map_order_label(intent):\n",
    "    if intent == '주문':\n",
    "        return '주문'\n",
    "    else:\n",
    "        return intent\n",
    "\n",
    "# Mapping function for '배송' label\n",
    "def map_delivery_label(query, intent):\n",
    "    if intent == '배송' or any(keyword in query for keyword in ['언제', '오늘', '언제쯤', '준비']):\n",
    "        return '배송'\n",
    "    else:\n",
    "        return intent\n",
    "\n",
    "# Mapping function for '매장' label\n",
    "def map_store_label(query, intent):\n",
    "    if intent == '매장' or '피팅룸' in query:\n",
    "        return '매장'\n",
    "    else:\n",
    "        return intent\n",
    "\n",
    "# Mapping function for 'AS' label\n",
    "def map_as_label(query, intent):\n",
    "    if intent == 'AS' or any(keyword in query for keyword in ['반품', '교환', '환불']):\n",
    "        return 'AS'\n",
    "    else:\n",
    "        return intent\n",
    "\n",
    "# Mapping function for '제품' label\n",
    "def map_product_label(intent):\n",
    "    if intent in ['제품_정보', '제품_재고']:\n",
    "        return '제품'\n",
    "    else:\n",
    "        return intent\n",
    "\n",
    "# Apply the mapping functions\n",
    "df_mapped['intent'] = df_mapped['intent'].apply(map_order_label)\n",
    "df_mapped['intent'] = df_mapped.apply(lambda row: map_delivery_label(row['query'], row['intent']), axis=1)\n",
    "df_mapped['intent'] = df_mapped.apply(lambda row: map_store_label(row['query'], row['intent']), axis=1)\n",
    "df_mapped['intent'] = df_mapped.apply(lambda row: map_as_label(row['query'], row['intent']), axis=1)\n",
    "df_mapped['intent'] = df_mapped['intent'].apply(map_product_label)\n",
    "\n",
    "# Step 2: Filter '제품' label queries based on the specified keywords\n",
    "product_keywords = ['사이즈', '있나요', '제품', '없나요']\n",
    "filtered_product_df = df_mapped[\n",
    "    (df_mapped['intent'] == '제품') & \n",
    "    (df_mapped['query'].apply(lambda x: any(keyword in x for keyword in product_keywords)))\n",
    "]\n",
    "\n",
    "# Concatenate non-'제품' label rows and filtered '제품' label rows\n",
    "final_filtered_df = pd.concat([\n",
    "    df_mapped[df_mapped['intent'] != '제품'],\n",
    "    filtered_product_df\n",
    "])\n",
    "\n",
    "# Step 3: Count the unique number of queries for each label\n",
    "unique_counts_per_intent = final_filtered_df.groupby('intent')['query'].nunique()\n",
    "\n",
    "unique_counts_per_intent"
   ]
  },
  {
   "cell_type": "code",
   "execution_count": 5,
   "metadata": {},
   "outputs": [],
   "source": [
    "final_filtered_df.to_csv('./230817_intent_labeled_by_6.csv', index=False)"
   ]
  }
 ],
 "metadata": {
  "kernelspec": {
   "display_name": "venv",
   "language": "python",
   "name": "python3"
  },
  "language_info": {
   "codemirror_mode": {
    "name": "ipython",
    "version": 3
   },
   "file_extension": ".py",
   "mimetype": "text/x-python",
   "name": "python",
   "nbconvert_exporter": "python",
   "pygments_lexer": "ipython3",
   "version": "3.8.10"
  },
  "orig_nbformat": 4
 },
 "nbformat": 4,
 "nbformat_minor": 2
}
