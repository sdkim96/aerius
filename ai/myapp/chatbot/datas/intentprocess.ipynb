{
 "cells": [
  {
   "cell_type": "code",
   "execution_count": 89,
   "metadata": {},
   "outputs": [],
   "source": [
    "import pandas as pd"
   ]
  },
  {
   "cell_type": "code",
   "execution_count": 90,
   "metadata": {},
   "outputs": [],
   "source": [
    "df=pd.read_csv('./intent3.csv')"
   ]
  },
  {
   "cell_type": "code",
   "execution_count": 91,
   "metadata": {},
   "outputs": [
    {
     "data": {
      "text/html": [
       "<div>\n",
       "<style scoped>\n",
       "    .dataframe tbody tr th:only-of-type {\n",
       "        vertical-align: middle;\n",
       "    }\n",
       "\n",
       "    .dataframe tbody tr th {\n",
       "        vertical-align: top;\n",
       "    }\n",
       "\n",
       "    .dataframe thead th {\n",
       "        text-align: right;\n",
       "    }\n",
       "</style>\n",
       "<table border=\"1\" class=\"dataframe\">\n",
       "  <thead>\n",
       "    <tr style=\"text-align: right;\">\n",
       "      <th></th>\n",
       "      <th>query</th>\n",
       "      <th>intent</th>\n",
       "    </tr>\n",
       "  </thead>\n",
       "  <tbody>\n",
       "    <tr>\n",
       "      <th>0</th>\n",
       "      <td>아침도 아니고 밤 12시 30분에 결제한 건데도 그런가요?</td>\n",
       "      <td>주문_취소_확인</td>\n",
       "    </tr>\n",
       "    <tr>\n",
       "      <th>1</th>\n",
       "      <td>실수로 취소하면 재주문해야 하는 거죠?</td>\n",
       "      <td>주문_취소_확인</td>\n",
       "    </tr>\n",
       "    <tr>\n",
       "      <th>2</th>\n",
       "      <td>택배비 따로 추가되나요?</td>\n",
       "      <td>배송_비용_질문</td>\n",
       "    </tr>\n",
       "    <tr>\n",
       "      <th>3</th>\n",
       "      <td>택배비 있나요?</td>\n",
       "      <td>배송_비용_질문</td>\n",
       "    </tr>\n",
       "  </tbody>\n",
       "</table>\n",
       "</div>"
      ],
      "text/plain": [
       "                              query    intent\n",
       "0  아침도 아니고 밤 12시 30분에 결제한 건데도 그런가요?  주문_취소_확인\n",
       "1             실수로 취소하면 재주문해야 하는 거죠?  주문_취소_확인\n",
       "2                     택배비 따로 추가되나요?  배송_비용_질문\n",
       "3                          택배비 있나요?  배송_비용_질문"
      ]
     },
     "execution_count": 91,
     "metadata": {},
     "output_type": "execute_result"
    }
   ],
   "source": [
    "df.head(4)"
   ]
  },
  {
   "cell_type": "code",
   "execution_count": 92,
   "metadata": {},
   "outputs": [
    {
     "data": {
      "text/plain": [
       "array(['주문_취소_확인', '배송_비용_질문', '배송_비용_요청', '매장_정보_확인', '제품_품질_비교',\n",
       "       '제품_원산지_요청', '배송_일반_질문', '결제_영수증_요청', '제품_품질_요청', '제품_호환_확인',\n",
       "       '포장_일반_질문', '제품_구성_질문', '매장_이용_확인', '멤버십_사용_요청', '구매_제품_요청',\n",
       "       '제품_추천_확인', '제품_일반_비교', '구매_오류_요청', '예약_취소_질문', '웹사이트_오류_질문',\n",
       "       '제품_용도_확인', '웹사이트_사용_확인', '제품_품질_질문', '제품_입고_요청', '매장_정보_질문',\n",
       "       '제품_가격_요청', '웹사이트_가입_질문', '제품_호환_요청', '포장_비용_확인', '주문_변경_확인',\n",
       "       '포장_일반_확인', '제품_원산지_확인', '행사_유형_질문', '멤버십_오류_질문', '예약_취소_요청',\n",
       "       '결제_할인_요청', '교환|반품|환불_시간_질문', '제품_소재_확인', '구매_제품_질문', '제품_정보_비교',\n",
       "       '제품_용도_질문', 'AS_일반_요청', '행사_기간_요청', '제품_품질_확인', '결제_영수증_확인',\n",
       "       '매장_구조_질문', '구매_변경_요청', '예약_방법_확인', '행사_일반_질문', '제품_일반_요청',\n",
       "       '구매_예약_질문', '부가서비스_방법_요청', '웹사이트_오류_요청', '결제_추가_요청', '멤버십_가입_질문',\n",
       "       'AS_비용_질문', '제품_방법_요청', '구매_변경_질문', '교환|반품|환불_시간_확인', '매장_이용_질문',\n",
       "       '멤버십_적립_요청', '결제_재결제_요청', '제품_원산지_질문', '교환|반품|환불_일반_확인',\n",
       "       'AS_방법_요청', '제품_정보_요청', '결제_오류_확인', '배송_날짜_질문', '배송_오류_확인',\n",
       "       '부가서비스_날짜_질문', '제품_재고_요청', '구매_제품_확인', '배송_오류_질문', '행사_날짜_질문',\n",
       "       '구매_변경_확인', '결제_취소_질문', '제품_시용_질문', '제품_일반_질문', '제품_구성_확인',\n",
       "       '포장_일반_요청', '교환|반품|환불_비용_질문', '구매_추가_확인', '행사_유형_요청', 'AS_비용_확인',\n",
       "       '제품_방법_질문', '제품_입고_질문', '멤버십_사용_확인', '제품_구성_요청', '제품_정보_확인',\n",
       "       '제품_커스텀_질문', 'AS_날짜_질문', '포장_비용_질문', '제품_가격_확인', '결제_할인_질문',\n",
       "       '결제_수단_질문', '부가서비스_비용_질문', '주문_비품_확인', '제품_재고_질문', '구매_추가_요청',\n",
       "       '주문_오류_요청', '배송_지역_확인', '결제_시기_확인', '웹사이트_오류_확인', '배송_방법_요청',\n",
       "       '제품_시용_요청', '행사_기간_확인', '행사_정보_요청', '행사_일반_확인', 'AS_시간_질문',\n",
       "       '제품_날짜_질문', '교환|반품|환불_날짜_질문', 'AS_시간_요청', '결제_시기_질문', '제품_용도_비교',\n",
       "       '행사_정보_확인', '멤버십_적립_질문', '멤버십_가입_요청', '제품_재고_확인', '배송_택배사_요청',\n",
       "       '결제_방식_요청', '결제_오류_요청', '제품_추천_질문', '배송_지역_요청', '결제_추가_확인',\n",
       "       '주문_변경_질문', '제품_추천_요청', '주문_추가_질문', '매장_정보_요청', '결제_취소_요청',\n",
       "       '행사_유형_비교', '제품_방법_확인', 'AS_방법_질문', '제품_불량_질문', '예약_방법_요청',\n",
       "       '교환|반품|환불_방법_확인', '주문_추가_요청', '제품_정보_질문', '결제_수단_요청', '구매_취소_질문',\n",
       "       '결제_일반_확인', '멤버십_적립_확인', '결제_수단_확인', '멤버십_일반_확인', '교환|반품|환불_일반_비교',\n",
       "       '주문_취소_요청', '멤버십_가입_확인', '예약_변경_질문', '결제_오류_질문', '웹사이트_사용_질문',\n",
       "       '멤버십_사용_질문', '제품_가격_비교', '구매_추가_질문', '행사_일반_비교', '웹사이트_사용_요청',\n",
       "       '제품_날짜_확인', 'AS_비용_요청', '결제_시기_요청', '배송_방법_확인', '제품_구매_요청',\n",
       "       '결제_일반_비교', '예약_변경_요청', '제품_소재_요청', '결제_영수증_질문', '포장_방식_질문',\n",
       "       '결제_추가_질문', '부가서비스_방법_질문', '배송_택배사_질문', '주문_비품_질문', '멤버십_일반_질문',\n",
       "       '결제_일반_질문', '주문_제품_요청', '교환|반품|환불_일반_질문', '배송_날짜_비교', 'AS_시간_확인',\n",
       "       '제품_구성_비교', '제품_소재_비교', '제품_커스텀_확인', '제품_소재_질문', '행사_유형_확인',\n",
       "       '예약_비용_질문', 'AS_날짜_요청', '제품_원산지_비교', '구매_취소_확인', '교환|반품|환불_방법_요청',\n",
       "       '결제_방식_질문', '결제_취소_확인', '구매_예약_요청', '제품_추천_비교', '제품_불량_요청',\n",
       "       '구매_취소_요청', '교환|반품|환불_비용_확인', 'AS_일반_질문', '행사_기간_질문', '배송_지역_질문',\n",
       "       '주문_비품_요청', '교환|반품|환불_일반_요청', '주문_취소_질문', '배송_날짜_확인',\n",
       "       '교환|반품|환불_방법_질문', '교환|반품|환불_시간_요청', '배송_일반_확인', '결제_재결제_확인',\n",
       "       '예약_변경_확인', '주문_제품_질문', '제품_호환_질문', 'AS_비용_비교', '제품_용도_요청',\n",
       "       'AS_일반_확인', '매장_이용_요청', '포장_비용_비교', '제품_입고_비교', '포장_방식_확인',\n",
       "       '배송_방법_질문', '제품_시용_확인', '포장_방식_요청', '제품_방법_비교', '제품_일반_확인',\n",
       "       '구매_오류_질문', '멤버십_일반_요청', '주문_추가_확인', '예약_방법_질문', '결제_방식_확인',\n",
       "       '결제_할인_확인', '교환|반품|환불_시간_비교', '행사_정보_질문', '제품_가격_질문', '결제_재결제_질문',\n",
       "       '매장_부대시설_질문', '제품_입고_확인', '배송_택배사_확인', '포장_비용_요청', '제품_날짜_요청',\n",
       "       '배송_오류_요청', '배송_일반_요청', '행사_날짜_확인', '배송_비용_확인', 'AS_방법_확인',\n",
       "       '제품_구매_질문', '제품_커스텀_요청', '주문_변경_요청', '교환|반품|환불_비용_요청', '주문_제품_확인',\n",
       "       '배송_날짜_요청', '행사_일반_요청', '결제_일반_요청', '제품_불량_확인', '주문_오류_질문'],\n",
       "      dtype=object)"
      ]
     },
     "execution_count": 92,
     "metadata": {},
     "output_type": "execute_result"
    }
   ],
   "source": [
    "intents=df['intent'].unique()\n",
    "\n",
    "intents"
   ]
  },
  {
   "cell_type": "code",
   "execution_count": 93,
   "metadata": {},
   "outputs": [
    {
     "data": {
      "text/plain": [
       "247"
      ]
     },
     "execution_count": 93,
     "metadata": {},
     "output_type": "execute_result"
    }
   ],
   "source": [
    "len(intents)"
   ]
  },
  {
   "cell_type": "code",
   "execution_count": 94,
   "metadata": {},
   "outputs": [
    {
     "name": "stdout",
     "output_type": "stream",
     "text": [
      "['확인', '질문', '요청', '확인', '비교', '요청', '질문', '요청', '요청', '확인', '질문', '질문', '확인', '요청', '요청', '확인', '비교', '요청', '질문', '질문', '확인', '확인', '질문', '요청', '질문', '요청', '질문', '요청', '확인', '확인', '확인', '확인', '질문', '질문', '요청', '요청', '질문', '확인', '질문', '비교', '질문', '요청', '요청', '확인', '확인', '질문', '요청', '확인', '질문', '요청', '질문', '요청', '요청', '요청', '질문', '질문', '요청', '질문', '확인', '질문', '요청', '요청', '질문', '확인', '요청', '요청', '확인', '질문', '확인', '질문', '요청', '확인', '질문', '질문', '확인', '질문', '질문', '질문', '확인', '요청', '질문', '확인', '요청', '확인', '질문', '질문', '확인', '요청', '확인', '질문', '질문', '질문', '확인', '질문', '질문', '질문', '확인', '질문', '요청', '요청', '확인', '확인', '확인', '요청', '요청', '확인', '요청', '확인', '질문', '질문', '질문', '요청', '질문', '비교', '확인', '질문', '요청', '확인', '요청', '요청', '요청', '질문', '요청', '확인', '질문', '요청', '질문', '요청', '요청', '비교', '확인', '질문', '질문', '요청', '확인', '요청', '질문', '요청', '질문', '확인', '확인', '확인', '확인', '비교', '요청', '확인', '질문', '질문', '질문', '질문', '비교', '질문', '비교', '요청', '확인', '요청', '요청', '확인', '요청', '비교', '요청', '요청', '질문', '질문', '질문', '질문', '질문', '질문', '질문', '질문', '요청', '질문', '비교', '확인', '비교', '비교', '확인', '질문', '확인', '질문', '요청', '비교', '확인', '요청', '질문', '확인', '요청', '비교', '요청', '요청', '확인', '질문', '질문', '질문', '요청', '요청', '질문', '확인', '질문', '요청', '확인', '확인', '확인', '질문', '질문', '비교', '요청', '확인', '요청', '비교', '비교', '확인', '질문', '확인', '요청', '비교', '확인', '질문', '요청', '확인', '질문', '확인', '확인', '비교', '질문', '질문', '질문', '질문', '확인', '확인', '요청', '요청', '요청', '요청', '확인', '확인', '확인', '질문', '요청', '요청', '요청', '확인', '요청', '요청', '요청', '확인', '질문']\n",
      "['확인', '질문', '요청', '비교']\n"
     ]
    }
   ],
   "source": [
    "redefined = []\n",
    "\n",
    "for i in intents:\n",
    "    if '확인' in i:\n",
    "        i='확인'\n",
    "        redefined.append(i)\n",
    "    elif '질문' in i:\n",
    "        i='질문'\n",
    "        redefined.append(i)\n",
    "    elif '요청' in i:\n",
    "        i='요청'\n",
    "        redefined.append(i)\n",
    "    elif '비교' in i:\n",
    "        i='비교'\n",
    "        redefined.append(i)\n",
    "\n",
    "\n",
    "print(redefined)\n",
    "\n",
    "\n",
    "# uniques = list(set(redefined)) -> 이거 써도됨\n",
    "\n",
    "uniques = []\n",
    "for r in redefined:\n",
    "    if '확인'==r:\n",
    "        if uniques.count(r) == 0:\n",
    "            uniques.append(r)\n",
    "        else:\n",
    "            continue\n",
    "    elif '질문'==r:\n",
    "        if uniques.count(r) == 0:\n",
    "            uniques.append(r)\n",
    "        else:\n",
    "            continue\n",
    "    elif '요청'==r:\n",
    "        if uniques.count(r) == 0:\n",
    "            uniques.append(r)\n",
    "        else:\n",
    "            continue\n",
    "    elif '비교'==r:\n",
    "        if uniques.count(r) == 0:\n",
    "            uniques.append(r)\n",
    "        else:\n",
    "            continue\n",
    "\n",
    "print(uniques)\n",
    "\n",
    "    "
   ]
  },
  {
   "cell_type": "code",
   "execution_count": 95,
   "metadata": {},
   "outputs": [
    {
     "data": {
      "text/plain": [
       "208927"
      ]
     },
     "execution_count": 95,
     "metadata": {},
     "output_type": "execute_result"
    }
   ],
   "source": [
    "query_list=df['query']\n",
    "intent_list = df['intent']\n",
    "\n",
    "i_list = []\n",
    "for a in intent_list:\n",
    "    if '확인' in a:\n",
    "        a='확인'\n",
    "        i_list.append(a)\n",
    "    elif '질문' in a:\n",
    "        a='질문'\n",
    "        i_list.append(a)\n",
    "    elif '요청' in a:\n",
    "        a='요청'\n",
    "        i_list.append(a)\n",
    "    elif '비교' in a:\n",
    "        a='비교'\n",
    "        i_list.append(a)\n",
    "\n",
    "i_list\n",
    "len(i_list)\n",
    "len(query_list)"
   ]
  },
  {
   "cell_type": "code",
   "execution_count": 96,
   "metadata": {},
   "outputs": [],
   "source": [
    "new_df = pd.DataFrame({\n",
    "    'query': query_list,\n",
    "    'intent': i_list\n",
    "})"
   ]
  },
  {
   "cell_type": "code",
   "execution_count": 97,
   "metadata": {},
   "outputs": [],
   "source": [
    "new_df.to_csv('intent4.csv', index=False, encoding='utf-8')"
   ]
  },
  {
   "cell_type": "code",
   "execution_count": 98,
   "metadata": {},
   "outputs": [
    {
     "name": "stdout",
     "output_type": "stream",
     "text": [
      "['확인' '질문' '요청' '비교']\n",
      "5915 176232 25816 964\n"
     ]
    }
   ],
   "source": [
    "print(new_df['intent'].unique())\n",
    "\n",
    "lists=new_df['intent'].tolist()\n",
    "\n",
    "a=[]\n",
    "b=[]\n",
    "c=[]\n",
    "d=[]\n",
    "\n",
    "for l in lists:\n",
    "    if l =='확인':\n",
    "        a.append(l)\n",
    "    elif l == '질문':\n",
    "        b.append(l)\n",
    "    elif l == '요청':\n",
    "        c.append(l)\n",
    "    elif l == '비교':\n",
    "        d.append(l)\n",
    "\n",
    "\n",
    "print(len(a), len(b), len(c), len(d))"
   ]
  },
  {
   "cell_type": "code",
   "execution_count": 99,
   "metadata": {},
   "outputs": [],
   "source": [
    "df2 = pd.read_csv('./clothes_validation.csv')"
   ]
  },
  {
   "cell_type": "code",
   "execution_count": 100,
   "metadata": {},
   "outputs": [
    {
     "data": {
      "text/html": [
       "<div>\n",
       "<style scoped>\n",
       "    .dataframe tbody tr th:only-of-type {\n",
       "        vertical-align: middle;\n",
       "    }\n",
       "\n",
       "    .dataframe tbody tr th {\n",
       "        vertical-align: top;\n",
       "    }\n",
       "\n",
       "    .dataframe thead th {\n",
       "        text-align: right;\n",
       "    }\n",
       "</style>\n",
       "<table border=\"1\" class=\"dataframe\">\n",
       "  <thead>\n",
       "    <tr style=\"text-align: right;\">\n",
       "      <th></th>\n",
       "      <th>IDX</th>\n",
       "      <th>발화자</th>\n",
       "      <th>발화문</th>\n",
       "      <th>카테고리</th>\n",
       "      <th>QA번호</th>\n",
       "      <th>QA여부</th>\n",
       "      <th>감성</th>\n",
       "      <th>인텐트</th>\n",
       "      <th>가격</th>\n",
       "      <th>수량</th>\n",
       "      <th>크기</th>\n",
       "      <th>장소</th>\n",
       "      <th>조직</th>\n",
       "      <th>사람</th>\n",
       "      <th>시간</th>\n",
       "      <th>날짜</th>\n",
       "      <th>상품명</th>\n",
       "      <th>상담번호</th>\n",
       "      <th>상담내순번</th>\n",
       "    </tr>\n",
       "  </thead>\n",
       "  <tbody>\n",
       "    <tr>\n",
       "      <th>0</th>\n",
       "      <td>1</td>\n",
       "      <td>c</td>\n",
       "      <td>운동화 세척제 당일 무료 배송 가능한가요?</td>\n",
       "      <td>의류</td>\n",
       "      <td>89360</td>\n",
       "      <td>q</td>\n",
       "      <td>m</td>\n",
       "      <td>배송_비용_질문</td>\n",
       "      <td>NaN</td>\n",
       "      <td>NaN</td>\n",
       "      <td>NaN</td>\n",
       "      <td>NaN</td>\n",
       "      <td>NaN</td>\n",
       "      <td>NaN</td>\n",
       "      <td>NaN</td>\n",
       "      <td>NaN</td>\n",
       "      <td>운동화 세척제</td>\n",
       "      <td>89360</td>\n",
       "      <td>1</td>\n",
       "    </tr>\n",
       "    <tr>\n",
       "      <th>1</th>\n",
       "      <td>2</td>\n",
       "      <td>s</td>\n",
       "      <td>아니요. 당일 배송은 3000원입니다.</td>\n",
       "      <td>의류</td>\n",
       "      <td>89360</td>\n",
       "      <td>a</td>\n",
       "      <td>m</td>\n",
       "      <td>배송_비용_질문</td>\n",
       "      <td>3000원</td>\n",
       "      <td>NaN</td>\n",
       "      <td>NaN</td>\n",
       "      <td>NaN</td>\n",
       "      <td>NaN</td>\n",
       "      <td>NaN</td>\n",
       "      <td>NaN</td>\n",
       "      <td>NaN</td>\n",
       "      <td>NaN</td>\n",
       "      <td>89360</td>\n",
       "      <td>2</td>\n",
       "    </tr>\n",
       "    <tr>\n",
       "      <th>2</th>\n",
       "      <td>3</td>\n",
       "      <td>c</td>\n",
       "      <td>산간지역은 배송비가 추가되나요?</td>\n",
       "      <td>의류</td>\n",
       "      <td>90730</td>\n",
       "      <td>q</td>\n",
       "      <td>m</td>\n",
       "      <td>배송_비용_질문</td>\n",
       "      <td>NaN</td>\n",
       "      <td>NaN</td>\n",
       "      <td>NaN</td>\n",
       "      <td>NaN</td>\n",
       "      <td>NaN</td>\n",
       "      <td>NaN</td>\n",
       "      <td>NaN</td>\n",
       "      <td>NaN</td>\n",
       "      <td>NaN</td>\n",
       "      <td>90730</td>\n",
       "      <td>1</td>\n",
       "    </tr>\n",
       "    <tr>\n",
       "      <th>3</th>\n",
       "      <td>4</td>\n",
       "      <td>s</td>\n",
       "      <td>네, 배송비가 추가됩니다.</td>\n",
       "      <td>의류</td>\n",
       "      <td>90730</td>\n",
       "      <td>a</td>\n",
       "      <td>m</td>\n",
       "      <td>배송_비용_질문</td>\n",
       "      <td>NaN</td>\n",
       "      <td>NaN</td>\n",
       "      <td>NaN</td>\n",
       "      <td>NaN</td>\n",
       "      <td>NaN</td>\n",
       "      <td>NaN</td>\n",
       "      <td>NaN</td>\n",
       "      <td>NaN</td>\n",
       "      <td>NaN</td>\n",
       "      <td>90730</td>\n",
       "      <td>2</td>\n",
       "    </tr>\n",
       "  </tbody>\n",
       "</table>\n",
       "</div>"
      ],
      "text/plain": [
       "   IDX 발화자                      발화문 카테고리   QA번호 QA여부 감성       인텐트     가격   수량  \\\n",
       "0    1   c  운동화 세척제 당일 무료 배송 가능한가요?   의류  89360    q  m  배송_비용_질문    NaN  NaN   \n",
       "1    2   s    아니요. 당일 배송은 3000원입니다.   의류  89360    a  m  배송_비용_질문  3000원  NaN   \n",
       "2    3   c        산간지역은 배송비가 추가되나요?   의류  90730    q  m  배송_비용_질문    NaN  NaN   \n",
       "3    4   s           네, 배송비가 추가됩니다.   의류  90730    a  m  배송_비용_질문    NaN  NaN   \n",
       "\n",
       "    크기   장소   조직   사람   시간   날짜      상품명   상담번호  상담내순번  \n",
       "0  NaN  NaN  NaN  NaN  NaN  NaN  운동화 세척제  89360      1  \n",
       "1  NaN  NaN  NaN  NaN  NaN  NaN      NaN  89360      2  \n",
       "2  NaN  NaN  NaN  NaN  NaN  NaN      NaN  90730      1  \n",
       "3  NaN  NaN  NaN  NaN  NaN  NaN      NaN  90730      2  "
      ]
     },
     "execution_count": 100,
     "metadata": {},
     "output_type": "execute_result"
    }
   ],
   "source": [
    "df2.head(4)"
   ]
  },
  {
   "cell_type": "code",
   "execution_count": 101,
   "metadata": {},
   "outputs": [],
   "source": [
    "df3 = df2[df2['발화자']=='c']"
   ]
  },
  {
   "cell_type": "code",
   "execution_count": 102,
   "metadata": {},
   "outputs": [],
   "source": [
    "df4 = df3[['발화문', '인텐트']].rename(columns={'발화문': 'query', '인텐트': 'intent'})"
   ]
  },
  {
   "cell_type": "code",
   "execution_count": 103,
   "metadata": {},
   "outputs": [
    {
     "data": {
      "text/plain": [
       "26940"
      ]
     },
     "execution_count": 103,
     "metadata": {},
     "output_type": "execute_result"
    }
   ],
   "source": [
    "query_list=df4['query']\n",
    "intent_list = df4['intent']\n",
    "\n",
    "i_list = []\n",
    "for a in intent_list:\n",
    "    if '확인' in a:\n",
    "        a='확인'\n",
    "        i_list.append(a)\n",
    "    elif '질문' in a:\n",
    "        a='질문'\n",
    "        i_list.append(a)\n",
    "    elif '요청' in a:\n",
    "        a='요청'\n",
    "        i_list.append(a)\n",
    "    elif '비교' in a:\n",
    "        a='비교'\n",
    "        i_list.append(a)\n",
    "\n",
    "i_list\n",
    "len(i_list)\n",
    "len(query_list)"
   ]
  },
  {
   "cell_type": "code",
   "execution_count": 104,
   "metadata": {},
   "outputs": [],
   "source": [
    "df4 = pd.DataFrame({\n",
    "    'query': query_list,\n",
    "    'intent': i_list\n",
    "})"
   ]
  },
  {
   "cell_type": "code",
   "execution_count": 105,
   "metadata": {},
   "outputs": [],
   "source": [
    "combined = pd.concat([new_df, df4], ignore_index=True)"
   ]
  },
  {
   "cell_type": "code",
   "execution_count": 106,
   "metadata": {},
   "outputs": [
    {
     "data": {
      "text/html": [
       "<div>\n",
       "<style scoped>\n",
       "    .dataframe tbody tr th:only-of-type {\n",
       "        vertical-align: middle;\n",
       "    }\n",
       "\n",
       "    .dataframe tbody tr th {\n",
       "        vertical-align: top;\n",
       "    }\n",
       "\n",
       "    .dataframe thead th {\n",
       "        text-align: right;\n",
       "    }\n",
       "</style>\n",
       "<table border=\"1\" class=\"dataframe\">\n",
       "  <thead>\n",
       "    <tr style=\"text-align: right;\">\n",
       "      <th></th>\n",
       "      <th>query</th>\n",
       "      <th>intent</th>\n",
       "    </tr>\n",
       "  </thead>\n",
       "  <tbody>\n",
       "    <tr>\n",
       "      <th>0</th>\n",
       "      <td>아침도 아니고 밤 12시 30분에 결제한 건데도 그런가요?</td>\n",
       "      <td>확인</td>\n",
       "    </tr>\n",
       "    <tr>\n",
       "      <th>1</th>\n",
       "      <td>실수로 취소하면 재주문해야 하는 거죠?</td>\n",
       "      <td>확인</td>\n",
       "    </tr>\n",
       "    <tr>\n",
       "      <th>2</th>\n",
       "      <td>택배비 따로 추가되나요?</td>\n",
       "      <td>질문</td>\n",
       "    </tr>\n",
       "    <tr>\n",
       "      <th>3</th>\n",
       "      <td>택배비 있나요?</td>\n",
       "      <td>질문</td>\n",
       "    </tr>\n",
       "    <tr>\n",
       "      <th>4</th>\n",
       "      <td>택배비 따로 들어요</td>\n",
       "      <td>질문</td>\n",
       "    </tr>\n",
       "    <tr>\n",
       "      <th>...</th>\n",
       "      <td>...</td>\n",
       "      <td>...</td>\n",
       "    </tr>\n",
       "    <tr>\n",
       "      <th>235862</th>\n",
       "      <td>15번 보는 거랑 주문번 호도 다르고 주문하고 싶은데 어찌해요?</td>\n",
       "      <td>질문</td>\n",
       "    </tr>\n",
       "    <tr>\n",
       "      <th>235863</th>\n",
       "      <td>선택 3번 에 카멜이 옵션에 없네요?</td>\n",
       "      <td>질문</td>\n",
       "    </tr>\n",
       "    <tr>\n",
       "      <th>235864</th>\n",
       "      <td>가디건은 회색시켰는데 흰색이 왓더라구요?</td>\n",
       "      <td>질문</td>\n",
       "    </tr>\n",
       "    <tr>\n",
       "      <th>235865</th>\n",
       "      <td>J765 청바지 두 개 주문하지 않았나요?</td>\n",
       "      <td>질문</td>\n",
       "    </tr>\n",
       "    <tr>\n",
       "      <th>235866</th>\n",
       "      <td>그런 사이 PT 블랙 구매했는데 화면에서는 블루랑 그린 색만 보이고 옵션 선택에는 ...</td>\n",
       "      <td>질문</td>\n",
       "    </tr>\n",
       "  </tbody>\n",
       "</table>\n",
       "<p>235867 rows × 2 columns</p>\n",
       "</div>"
      ],
      "text/plain": [
       "                                                    query intent\n",
       "0                        아침도 아니고 밤 12시 30분에 결제한 건데도 그런가요?     확인\n",
       "1                                   실수로 취소하면 재주문해야 하는 거죠?     확인\n",
       "2                                           택배비 따로 추가되나요?     질문\n",
       "3                                                택배비 있나요?     질문\n",
       "4                                              택배비 따로 들어요     질문\n",
       "...                                                   ...    ...\n",
       "235862                15번 보는 거랑 주문번 호도 다르고 주문하고 싶은데 어찌해요?     질문\n",
       "235863                               선택 3번 에 카멜이 옵션에 없네요?     질문\n",
       "235864                             가디건은 회색시켰는데 흰색이 왓더라구요?     질문\n",
       "235865                            J765 청바지 두 개 주문하지 않았나요?     질문\n",
       "235866  그런 사이 PT 블랙 구매했는데 화면에서는 블루랑 그린 색만 보이고 옵션 선택에는 ...     질문\n",
       "\n",
       "[235867 rows x 2 columns]"
      ]
     },
     "execution_count": 106,
     "metadata": {},
     "output_type": "execute_result"
    }
   ],
   "source": [
    "combined"
   ]
  },
  {
   "cell_type": "code",
   "execution_count": 107,
   "metadata": {},
   "outputs": [],
   "source": [
    "intents_num = {'확인':0, '질문':1,'요청':2,'비교':3}"
   ]
  },
  {
   "cell_type": "code",
   "execution_count": 108,
   "metadata": {},
   "outputs": [],
   "source": [
    "combined['intent_num'] = combined['intent'].map(intents_num)"
   ]
  },
  {
   "cell_type": "code",
   "execution_count": 111,
   "metadata": {},
   "outputs": [
    {
     "name": "stdout",
     "output_type": "stream",
     "text": [
      "['확인' '질문' '요청' '비교']\n",
      "6436 198691 29656 1084\n"
     ]
    }
   ],
   "source": [
    "print(combined['intent'].unique())\n",
    "\n",
    "lists=combined['intent'].tolist()\n",
    "\n",
    "a=[]\n",
    "b=[]\n",
    "c=[]\n",
    "d=[]\n",
    "\n",
    "for l in lists:\n",
    "    if l =='확인':\n",
    "        a.append(l)\n",
    "    elif l == '질문':\n",
    "        b.append(l)\n",
    "    elif l == '요청':\n",
    "        c.append(l)\n",
    "    elif l == '비교':\n",
    "        d.append(l)\n",
    "\n",
    "\n",
    "print(len(a), len(b), len(c), len(d))"
   ]
  },
  {
   "cell_type": "code",
   "execution_count": 113,
   "metadata": {},
   "outputs": [
    {
     "name": "stdout",
     "output_type": "stream",
     "text": [
      "                                                    query  intent\n",
      "0                        아침도 아니고 밤 12시 30분에 결제한 건데도 그런가요?       0\n",
      "1                                   실수로 취소하면 재주문해야 하는 거죠?       0\n",
      "2                                           택배비 따로 추가되나요?       1\n",
      "3                                                택배비 있나요?       1\n",
      "4                                              택배비 따로 들어요       1\n",
      "...                                                   ...     ...\n",
      "235862                15번 보는 거랑 주문번 호도 다르고 주문하고 싶은데 어찌해요?       1\n",
      "235863                               선택 3번 에 카멜이 옵션에 없네요?       1\n",
      "235864                             가디건은 회색시켰는데 흰색이 왓더라구요?       1\n",
      "235865                            J765 청바지 두 개 주문하지 않았나요?       1\n",
      "235866  그런 사이 PT 블랙 구매했는데 화면에서는 블루랑 그린 색만 보이고 옵션 선택에는 ...       1\n",
      "\n",
      "[235867 rows x 2 columns]\n"
     ]
    }
   ],
   "source": [
    "# 'intent' 열 삭제\n",
    "combined.drop(columns=['intent'], inplace=True)\n",
    "\n",
    "# 'intent_num' 열의 이름을 'intent'로 바꾸기\n",
    "combined.rename(columns={'intent_num': 'intent'}, inplace=True)\n",
    "\n",
    "print(combined)"
   ]
  },
  {
   "cell_type": "markdown",
   "metadata": {},
   "source": []
  },
  {
   "cell_type": "code",
   "execution_count": 110,
   "metadata": {},
   "outputs": [],
   "source": [
    "combined.to_csv('./intent5.csv', index=False)"
   ]
  }
 ],
 "metadata": {
  "kernelspec": {
   "display_name": "venv",
   "language": "python",
   "name": "python3"
  },
  "language_info": {
   "codemirror_mode": {
    "name": "ipython",
    "version": 3
   },
   "file_extension": ".py",
   "mimetype": "text/x-python",
   "name": "python",
   "nbconvert_exporter": "python",
   "pygments_lexer": "ipython3",
   "version": "3.8.10"
  },
  "orig_nbformat": 4
 },
 "nbformat": 4,
 "nbformat_minor": 2
}
