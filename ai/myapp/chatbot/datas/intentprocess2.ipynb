{
 "cells": [
  {
   "cell_type": "code",
   "execution_count": 3,
   "metadata": {},
   "outputs": [],
   "source": [
    "import pandas as pd"
   ]
  },
  {
   "cell_type": "code",
   "execution_count": 4,
   "metadata": {},
   "outputs": [],
   "source": [
    "df=pd.read_csv('./clothes_train.csv')"
   ]
  },
  {
   "cell_type": "code",
   "execution_count": 5,
   "metadata": {},
   "outputs": [
    {
     "name": "stdout",
     "output_type": "stream",
     "text": [
      "<class 'pandas.core.frame.DataFrame'>\n",
      "RangeIndex: 419428 entries, 0 to 419427\n",
      "Data columns (total 19 columns):\n",
      " #   Column  Non-Null Count   Dtype \n",
      "---  ------  --------------   ----- \n",
      " 0   IDX     419428 non-null  int64 \n",
      " 1   발화자     419428 non-null  object\n",
      " 2   발화문     419428 non-null  object\n",
      " 3   카테고리    419428 non-null  object\n",
      " 4   QA번호    419428 non-null  int64 \n",
      " 5   QA여부    419428 non-null  object\n",
      " 6   감성      419428 non-null  object\n",
      " 7   인텐트     419428 non-null  object\n",
      " 8   가격      9860 non-null    object\n",
      " 9   수량      11641 non-null   object\n",
      " 10  크기      19297 non-null   object\n",
      " 11  장소      4196 non-null    object\n",
      " 12  조직      5784 non-null    object\n",
      " 13  사람      726 non-null     object\n",
      " 14  시간      2111 non-null    object\n",
      " 15  날짜      22031 non-null   object\n",
      " 16  상품명     136743 non-null  object\n",
      " 17  상담번호    419428 non-null  int64 \n",
      " 18  상담내순번   419428 non-null  int64 \n",
      "dtypes: int64(4), object(15)\n",
      "memory usage: 60.8+ MB\n"
     ]
    }
   ],
   "source": [
    "df.info()"
   ]
  },
  {
   "cell_type": "code",
   "execution_count": 6,
   "metadata": {},
   "outputs": [],
   "source": [
    "df= df[df['발화자']=='c']"
   ]
  },
  {
   "cell_type": "code",
   "execution_count": 7,
   "metadata": {},
   "outputs": [
    {
     "name": "stdout",
     "output_type": "stream",
     "text": [
      "<class 'pandas.core.frame.DataFrame'>\n",
      "Index: 208927 entries, 0 to 419426\n",
      "Data columns (total 19 columns):\n",
      " #   Column  Non-Null Count   Dtype \n",
      "---  ------  --------------   ----- \n",
      " 0   IDX     208927 non-null  int64 \n",
      " 1   발화자     208927 non-null  object\n",
      " 2   발화문     208927 non-null  object\n",
      " 3   카테고리    208927 non-null  object\n",
      " 4   QA번호    208927 non-null  int64 \n",
      " 5   QA여부    208927 non-null  object\n",
      " 6   감성      208927 non-null  object\n",
      " 7   인텐트     208927 non-null  object\n",
      " 8   가격      2218 non-null    object\n",
      " 9   수량      7159 non-null    object\n",
      " 10  크기      10461 non-null   object\n",
      " 11  장소      1872 non-null    object\n",
      " 12  조직      1993 non-null    object\n",
      " 13  사람      397 non-null     object\n",
      " 14  시간      356 non-null     object\n",
      " 15  날짜      8789 non-null    object\n",
      " 16  상품명     90218 non-null   object\n",
      " 17  상담번호    208927 non-null  int64 \n",
      " 18  상담내순번   208927 non-null  int64 \n",
      "dtypes: int64(4), object(15)\n",
      "memory usage: 31.9+ MB\n"
     ]
    }
   ],
   "source": [
    "df.info()"
   ]
  },
  {
   "cell_type": "code",
   "execution_count": 8,
   "metadata": {},
   "outputs": [],
   "source": [
    "df=df[['발화문','인텐트']]"
   ]
  },
  {
   "cell_type": "code",
   "execution_count": 9,
   "metadata": {},
   "outputs": [
    {
     "data": {
      "text/html": [
       "<div>\n",
       "<style scoped>\n",
       "    .dataframe tbody tr th:only-of-type {\n",
       "        vertical-align: middle;\n",
       "    }\n",
       "\n",
       "    .dataframe tbody tr th {\n",
       "        vertical-align: top;\n",
       "    }\n",
       "\n",
       "    .dataframe thead th {\n",
       "        text-align: right;\n",
       "    }\n",
       "</style>\n",
       "<table border=\"1\" class=\"dataframe\">\n",
       "  <thead>\n",
       "    <tr style=\"text-align: right;\">\n",
       "      <th></th>\n",
       "      <th>query</th>\n",
       "      <th>intent</th>\n",
       "    </tr>\n",
       "  </thead>\n",
       "  <tbody>\n",
       "    <tr>\n",
       "      <th>0</th>\n",
       "      <td>아침도 아니고 밤 12시 30분에 결제한 건데도 그런가요?</td>\n",
       "      <td>주문_취소_확인</td>\n",
       "    </tr>\n",
       "    <tr>\n",
       "      <th>2</th>\n",
       "      <td>실수로 취소하면 재주문해야 하는 거죠?</td>\n",
       "      <td>주문_취소_확인</td>\n",
       "    </tr>\n",
       "    <tr>\n",
       "      <th>4</th>\n",
       "      <td>택배비 따로 추가되나요?</td>\n",
       "      <td>배송_비용_질문</td>\n",
       "    </tr>\n",
       "    <tr>\n",
       "      <th>6</th>\n",
       "      <td>택배비 있나요?</td>\n",
       "      <td>배송_비용_질문</td>\n",
       "    </tr>\n",
       "    <tr>\n",
       "      <th>8</th>\n",
       "      <td>택배비 따로 들어요</td>\n",
       "      <td>배송_비용_질문</td>\n",
       "    </tr>\n",
       "    <tr>\n",
       "      <th>...</th>\n",
       "      <td>...</td>\n",
       "      <td>...</td>\n",
       "    </tr>\n",
       "    <tr>\n",
       "      <th>419418</th>\n",
       "      <td>15번 트레이닝 세트윗옷 가슴 단면 32라고 적혀 있는데 잘못 적힌 거 아닌가요?</td>\n",
       "      <td>주문_오류_질문</td>\n",
       "    </tr>\n",
       "    <tr>\n",
       "      <th>419420</th>\n",
       "      <td>뭐가 수정이 됐단 거죠?</td>\n",
       "      <td>주문_오류_질문</td>\n",
       "    </tr>\n",
       "    <tr>\n",
       "      <th>419422</th>\n",
       "      <td>11번 잠옷 프리 사이즈 주문해서 물건받았는데요 사이즈택에 XXx L라고 되어 있네...</td>\n",
       "      <td>주문_오류_질문</td>\n",
       "    </tr>\n",
       "    <tr>\n",
       "      <th>419424</th>\n",
       "      <td>어제는 해주겠지 했는데 또 안 했네요?</td>\n",
       "      <td>주문_오류_질문</td>\n",
       "    </tr>\n",
       "    <tr>\n",
       "      <th>419426</th>\n",
       "      <td>172/75xL 32사이즈로 주문했는데 왜 이래 낍니까?</td>\n",
       "      <td>주문_오류_질문</td>\n",
       "    </tr>\n",
       "  </tbody>\n",
       "</table>\n",
       "<p>208927 rows × 2 columns</p>\n",
       "</div>"
      ],
      "text/plain": [
       "                                                    query    intent\n",
       "0                        아침도 아니고 밤 12시 30분에 결제한 건데도 그런가요?  주문_취소_확인\n",
       "2                                   실수로 취소하면 재주문해야 하는 거죠?  주문_취소_확인\n",
       "4                                           택배비 따로 추가되나요?  배송_비용_질문\n",
       "6                                                택배비 있나요?  배송_비용_질문\n",
       "8                                              택배비 따로 들어요  배송_비용_질문\n",
       "...                                                   ...       ...\n",
       "419418      15번 트레이닝 세트윗옷 가슴 단면 32라고 적혀 있는데 잘못 적힌 거 아닌가요?  주문_오류_질문\n",
       "419420                                      뭐가 수정이 됐단 거죠?  주문_오류_질문\n",
       "419422  11번 잠옷 프리 사이즈 주문해서 물건받았는데요 사이즈택에 XXx L라고 되어 있네...  주문_오류_질문\n",
       "419424                              어제는 해주겠지 했는데 또 안 했네요?  주문_오류_질문\n",
       "419426                    172/75xL 32사이즈로 주문했는데 왜 이래 낍니까?  주문_오류_질문\n",
       "\n",
       "[208927 rows x 2 columns]"
      ]
     },
     "execution_count": 9,
     "metadata": {},
     "output_type": "execute_result"
    }
   ],
   "source": [
    "df = df.rename(columns={'발화문':'query', '인텐트':'intent'})\n",
    "\n",
    "df"
   ]
  },
  {
   "cell_type": "code",
   "execution_count": 10,
   "metadata": {},
   "outputs": [],
   "source": [
    "intents=df['intent'].unique()"
   ]
  },
  {
   "cell_type": "code",
   "execution_count": 11,
   "metadata": {},
   "outputs": [],
   "source": [
    "i_list= intents.tolist()\n",
    "\n",
    "df_intents = df['intent']"
   ]
  },
  {
   "cell_type": "code",
   "execution_count": 15,
   "metadata": {},
   "outputs": [
    {
     "data": {
      "text/plain": [
       "intent\n",
       "제품_정보_질문          39112\n",
       "배송_날짜_질문          25301\n",
       "제품_재고_질문          17041\n",
       "제품_일반_질문           9405\n",
       "제품_추천_질문           8207\n",
       "제품_가격_질문           8158\n",
       "제품_입고_질문           6883\n",
       "제품_방법_질문           6478\n",
       "교환|반품|환불_시간_질문     4863\n",
       "교환|반품|환불_방법_질문     4199\n",
       "제품_소재_질문           4166\n",
       "행사_정보_질문           3689\n",
       "제품_구성_질문           3591\n",
       "배송_오류_질문           3014\n",
       "제품_품질_질문           2864\n",
       "교환|반품|환불_방법_요청     2710\n",
       "제품_추천_요청           2574\n",
       "배송_날짜_요청           2320\n",
       "교환|반품|환불_비용_질문     2202\n",
       "제품_일반_요청           2034\n",
       "제품_불량_질문           1974\n",
       "구매_제품_요청           1763\n",
       "제품_정보_확인           1636\n",
       "배송_방법_질문           1486\n",
       "매장_정보_질문           1453\n",
       "교환|반품|환불_일반_질문     1439\n",
       "AS_방법_질문           1360\n",
       "매장_이용_질문           1244\n",
       "제품_용도_요청           1194\n",
       "AS_시간_질문           1188\n",
       "배송_비용_질문           1176\n",
       "AS_비용_질문           1089\n",
       "결제_할인_질문           1081\n",
       "제품_날짜_질문           1052\n",
       "배송_방법_요청           1049\n",
       "AS_방법_요청           1040\n",
       "구매_변경_요청           1025\n",
       "웹사이트_사용_질문         1023\n",
       "구매_추가_요청           1002\n",
       "포장_방식_요청           1000\n",
       "제품_용도_질문            987\n",
       "제품_원산지_질문           978\n",
       "구매_취소_요청            958\n",
       "행사_일반_질문            928\n",
       "포장_비용_질문            879\n",
       "배송_일반_질문            859\n",
       "포장_방식_질문            830\n",
       "배송_오류_요청            768\n",
       "제품_재고_요청            691\n",
       "제품_불량_요청            683\n",
       "Name: count, dtype: int64"
      ]
     },
     "execution_count": 15,
     "metadata": {},
     "output_type": "execute_result"
    }
   ],
   "source": [
    "intent_counts = df_intents.value_counts()\n",
    "\n",
    "intent_counts.head(50)"
   ]
  }
 ],
 "metadata": {
  "kernelspec": {
   "display_name": "venv",
   "language": "python",
   "name": "python3"
  },
  "language_info": {
   "codemirror_mode": {
    "name": "ipython",
    "version": 3
   },
   "file_extension": ".py",
   "mimetype": "text/x-python",
   "name": "python",
   "nbconvert_exporter": "python",
   "pygments_lexer": "ipython3",
   "version": "3.8.10"
  },
  "orig_nbformat": 4
 },
 "nbformat": 4,
 "nbformat_minor": 2
}
