{
 "cells": [
  {
   "cell_type": "markdown",
   "metadata": {},
   "source": [
    "커널을 항상 다시 시작해주세요"
   ]
  },
  {
   "cell_type": "code",
   "execution_count": 1,
   "metadata": {},
   "outputs": [],
   "source": [
    "from ai.myapp.chatbot.utils.MakeUserdic import Userdic"
   ]
  },
  {
   "cell_type": "markdown",
   "metadata": {},
   "source": [
    "1. 유저 딕셔너리 생성하기 or 그냥 쓰기\n",
    "\n",
    "인자 : userdic = 'path/to/your/file'\n",
    "-> 기본적으로 현재 폴더에 userdic.txt 쓰지만 \n",
    "-> 만약에 새로운 파일을 원한다면 \n",
    "-> userdic = 'path/to/your/newfile' 라는 인자 입력하면 생성됨"
   ]
  },
  {
   "cell_type": "code",
   "execution_count": 2,
   "metadata": {},
   "outputs": [],
   "source": [
    "u1=Userdic()"
   ]
  },
  {
   "cell_type": "markdown",
   "metadata": {},
   "source": [
    "2. 유저 딕셔너리에 워드 추가하기\n",
    "\n",
    "인자 : word= list or str"
   ]
  },
  {
   "cell_type": "code",
   "execution_count": 3,
   "metadata": {},
   "outputs": [],
   "source": [
    "u1.create_words(word='에이셔츠')"
   ]
  },
  {
   "cell_type": "code",
   "execution_count": 4,
   "metadata": {},
   "outputs": [],
   "source": [
    "u1.create_words(word=['비셔츠', '씨셔츠'])"
   ]
  },
  {
   "cell_type": "markdown",
   "metadata": {},
   "source": [
    "3. 유저 딕셔너리에 워드 업데이트 하기\n",
    "\n",
    "인자 : from_word , to_word"
   ]
  },
  {
   "cell_type": "code",
   "execution_count": 5,
   "metadata": {},
   "outputs": [],
   "source": [
    "u1.update_word('에이셔츠','에이스셔츠')"
   ]
  },
  {
   "cell_type": "markdown",
   "metadata": {},
   "source": [
    "4. 유저 딕셔너리에 워드 삭제하기\n",
    "\n",
    "인자 : word"
   ]
  },
  {
   "cell_type": "code",
   "execution_count": 6,
   "metadata": {},
   "outputs": [],
   "source": [
    "u1.delete_word('에이스셔츠')"
   ]
  }
 ],
 "metadata": {
  "kernelspec": {
   "display_name": "venv",
   "language": "python",
   "name": "python3"
  },
  "language_info": {
   "codemirror_mode": {
    "name": "ipython",
    "version": 3
   },
   "file_extension": ".py",
   "mimetype": "text/x-python",
   "name": "python",
   "nbconvert_exporter": "python",
   "pygments_lexer": "ipython3",
   "version": "3.8.10"
  },
  "orig_nbformat": 4
 },
 "nbformat": 4,
 "nbformat_minor": 2
}
